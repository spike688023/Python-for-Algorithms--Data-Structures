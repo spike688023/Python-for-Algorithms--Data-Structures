{
 "cells": [
  {
   "cell_type": "markdown",
   "metadata": {},
   "source": [
    "# On-Site Question 2 \n",
    "\n",
    "## Problem\n",
    "\n",
    "** Write a function that given a target amount of money and a list of possible coin denominations, returns the number of ways to make change for the target amount using the coin denominations**\n",
    "\n",
    "## Requirements\n",
    "\n",
    "** Write out your work on paper/pencil, then see if you can code up your solution **"
   ]
  },
  {
   "cell_type": "markdown",
   "metadata": {},
   "source": [
    "先來想看看，\n",
    "\n",
    "給定金額 ，再給定能用的幣值，\n",
    "\n",
    "計算出各種組合，\n",
    "\n",
    "這裡要的是組合數，不用列出來。\n",
    "\n",
    "這種幣值的問題 ，\n",
    "\n",
    "可以用公式來想，如下：\n",
    "\n",
    "100 = 1x + 5y + 10Z \n",
    "\n",
    "滿足此公式的所有正整數含0\n",
    "\n",
    "以tree的概念來想，root的值是100，\n",
    "\n",
    "往不同的分支走，就扣掉它的值，直到ROOT的值為0，\n",
    "\n",
    "代表得到一種組合， 就加1 ，看總共被加了幾次，\n",
    "\n",
    "感覺可以很簡單，\n",
    "\n",
    "return comb(value-1, coninslist) + com(value-5, coninslist) + com(value-10, coninslist)\n",
    "\n",
    "只要把base case的值給寫好，這題 應該就差不多了。"
   ]
  },
  {
   "cell_type": "markdown",
   "metadata": {},
   "source": [
    "# Good Luck!"
   ]
  }
 ],
 "metadata": {
  "kernelspec": {
   "display_name": "Python 2",
   "language": "python",
   "name": "python2"
  },
  "language_info": {
   "codemirror_mode": {
    "name": "ipython",
    "version": 2
   },
   "file_extension": ".py",
   "mimetype": "text/x-python",
   "name": "python",
   "nbconvert_exporter": "python",
   "pygments_lexer": "ipython2",
   "version": "2.7.10"
  }
 },
 "nbformat": 4,
 "nbformat_minor": 0
}
