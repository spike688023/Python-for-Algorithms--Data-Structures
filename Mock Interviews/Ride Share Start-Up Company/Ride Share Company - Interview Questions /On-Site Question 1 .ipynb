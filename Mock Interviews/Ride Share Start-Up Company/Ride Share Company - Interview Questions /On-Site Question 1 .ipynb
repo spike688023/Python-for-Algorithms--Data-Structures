{
 "cells": [
  {
   "cell_type": "markdown",
   "metadata": {},
   "source": [
    "# On-Site Question 1 \n",
    "\n",
    "## Problem\n",
    "\n",
    "** Given a list of integers, find the largest product you could make from 3 integers in the list **\n",
    "\n",
    "## Requirements\n",
    "\n",
    "** You can assume that the list will always have at least 3 integers **\n",
    "\n",
    "** Paper/pencil only, don't code this out until you've solved it as far as you can by hand. **"
   ]
  },
  {
   "cell_type": "markdown",
   "metadata": {},
   "source": [
    "奇怪了，我記得 下班前，有寄出來丫\n",
    "\n",
    "沒關係，反正我有記得 ，\n",
    "\n",
    "首先要找出最大的三個值， 跟最小的三個值，\n",
    "\n",
    "這就要掃 所有element 六次才能找到，目前還沒想到更好的方法，\n",
    "\n",
    "這是上半段的想法，\n",
    "\n",
    "接下來就 是下次段 ， 有這六個值以後 ，就 是想，\n",
    "\n",
    "要怎麼算出最大值的乘積 了， 之所 有分出最小的三個跟最大的三個，\n",
    "\n",
    "是因為最小的值會有負值，\n",
    "\n",
    "-19, -18, -17 , 1 ,2 ,3 \n",
    "\n",
    "-19, -18, 1 ,2 ,3, 4 \n",
    "\n",
    "由例子可以觀察，負數的值最多取二個， 接下來第三個數，\n",
    "\n",
    "是最正數的最大值， 所 以  要抓出來的數，應該 五個就 好了，\n",
    "\n",
    "不用到六個。\n"
   ]
  },
  {
   "cell_type": "markdown",
   "metadata": {},
   "source": [
    "# Good Luck!"
   ]
  }
 ],
 "metadata": {
  "kernelspec": {
   "display_name": "Python 2",
   "language": "python",
   "name": "python2"
  },
  "language_info": {
   "codemirror_mode": {
    "name": "ipython",
    "version": 2
   },
   "file_extension": ".py",
   "mimetype": "text/x-python",
   "name": "python",
   "nbconvert_exporter": "python",
   "pygments_lexer": "ipython2",
   "version": "2.7.10"
  }
 },
 "nbformat": 4,
 "nbformat_minor": 0
}
