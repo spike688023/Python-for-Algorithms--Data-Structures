{
 "cells": [
  {
   "cell_type": "markdown",
   "metadata": {},
   "source": [
    "# On-Site Question 3 \n",
    "\n",
    "## Problem\n",
    "\n",
    "** Given a binary tree, check whether it’s a binary search tree or not. **"
   ]
  },
  {
   "cell_type": "markdown",
   "metadata": {},
   "source": [
    "要判斷 的是，它是否是 二元搜尋樹，\n",
    "\n",
    "基本上呢，　樹的一個ＮＯＤＥ，　會有四個參數，　\n",
    " \n",
    "Key value , 跟二個指向左右的指標，　\n",
    " \n",
    "Key是二元樹用來區分，　這個ＮＯＤＥ要放的位置，　ＶＡＬＵＥ才是真正存的值，\n",
    " \n",
    "我一開始的想法是，　只要ＲＯＯＴ的值，比左子的值大，　比右值小，　就可以了，　\n",
    " \n",
    "就不斷比下去，　每個ＮＯＤＥ都比過。\n",
    " \n",
    "上面的想法會有個問題，\n",
    " \n",
    "例\n",
    " \n",
    "　　　6\n",
    "2         10\n",
    "         5     12\n",
    " \n",
    "這樣就有問題，　以ＲＯＯＴ的值是１０的ＮＯＤＥ來看，　\n",
    " \n",
    "他的左子樹比它小，　右子樹比它大，　但左子樹的值，　卻小到比　ＲＯＯＴ的６小，\n",
    " \n",
    "這就不對了，　　所以要做的事，是取其右子樹的最小值，左子樹的最大值，來跟ＲＯＯＴ的值比，　\n",
    " \n",
    "這才是正確的。\n",
    " \n",
    "再來想，　如何抓出，　左子樹的最大值，　右子樹的最小值，\n",
    " \n",
    "取最大。\n",
    "\n",
    "我回去看之前tree的章節，蠻大的一篇。"
   ]
  },
  {
   "cell_type": "markdown",
   "metadata": {},
   "source": [
    "## Requirements\n",
    "\n",
    "** Use paper/pencil, do not code this in an IDE until you've done it manually**\n",
    "\n",
    "** Do not use built-in Python libraries to do this, but do mention them if you know about them **"
   ]
  },
  {
   "cell_type": "markdown",
   "metadata": {},
   "source": [
    "# Good Luck!"
   ]
  }
 ],
 "metadata": {
  "kernelspec": {
   "display_name": "Python 2",
   "language": "python",
   "name": "python2"
  },
  "language_info": {
   "codemirror_mode": {
    "name": "ipython",
    "version": 2
   },
   "file_extension": ".py",
   "mimetype": "text/x-python",
   "name": "python",
   "nbconvert_exporter": "python",
   "pygments_lexer": "ipython2",
   "version": "2.7.10"
  }
 },
 "nbformat": 4,
 "nbformat_minor": 0
}
