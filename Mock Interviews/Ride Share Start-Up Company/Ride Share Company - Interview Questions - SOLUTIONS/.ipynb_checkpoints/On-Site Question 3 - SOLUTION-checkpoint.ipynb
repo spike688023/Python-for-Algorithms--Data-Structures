{
 "cells": [
  {
   "cell_type": "markdown",
   "metadata": {},
   "source": [
    "# On-Site Question 3 - SOLUTION\n",
    "\n",
    "## Problem\n",
    "\n",
    "** Given a binary tree, check whether it’s a binary search tree or not. **"
   ]
  },
  {
   "cell_type": "markdown",
   "metadata": {},
   "source": [
    "## Requirements\n",
    "\n",
    "** Use paper/pencil, do not code this in an IDE until you've done it manually**\n",
    "\n",
    "** Do not use built-in Python libraries to do this, but do mention them if you know about them **"
   ]
  },
  {
   "cell_type": "markdown",
   "metadata": {},
   "source": [
    "## Solution\n",
    "\n",
    "The first solution that comes to mind is, at every node check whether its value is larger than or equal to its left child and smaller than or equal to its right child (assuming equals can appear at either left or right). However, this approach is erroneous because it doesn’t check whether a node violates any condition with its grandparent or any of its ancestors. \n",
    "\n",
    "So, we should keep track of the minimum and maximum values a node can take. And at each node we will check whether its value is between the min and max values it’s allowed to take. The root can take any value between negative infinity and positive infinity. At any node, its left child should be smaller than or equal than its own value, and similarly the right child should be larger than or equal to. So during recursion, we send the current value as the new max to our left child and send the min as it is without changing. And to the right child, we send the current value as the new min and send the max without changing. "
   ]
  },
  {
   "cell_type": "code",
   "execution_count": 2,
   "metadata": {
    "collapsed": false
   },
   "outputs": [],
   "source": [
    "class Node: \n",
    "    def __init__(self, val=None): \n",
    "        self.left, self.right, self.val = None, None, val   \n",
    "        \n",
    "INFINITY = float(\"infinity\") \n",
    "NEG_INFINITY = float(\"-infinity\")  \n",
    "\n",
    "def isBST(tree, minVal=NEG_INFINITY, maxVal=INFINITY): \n",
    "    if tree is None:\n",
    "        return True   \n",
    "    if not minVal <= tree.val <= maxVal: \n",
    "        return False   \n",
    "    \n",
    "    # 往左子樹走，目前樹的val 就變成它的上限了\n",
    "    # Rcursive往下走所回傳的True False，雖然不能立即中斷，所有Recursive的stack\n",
    "    # 但回傳的值，會一直影響上層的答案。\n",
    "    return isBST(tree.left, minVal, tree.val) and isBST(tree.right, tree.val, maxVal) "
   ]
  },
  {
   "cell_type": "markdown",
   "metadata": {},
   "source": [
    "There’s an equally good alternative solution. If a tree is a binary search tree, then traversing the tree inorder should lead to sorted order of the values in the tree. So, we can perform an inorder traversal and check whether the node values are sorted or not."
   ]
  },
  {
   "cell_type": "markdown",
   "metadata": {},
   "source": [
    "下面這個寫法，理應是用中序追綜的角度去看，\n",
    "\n",
    "因為中序等於是一個已經排好的 序列，\n",
    "\n",
    "這裡的想法，理應是，用最一個代表左子樹的最大值，\n",
    "\n",
    "所以才說是lastNode，\n",
    "\n",
    "回到上一層後，這個lastNode等於是左子樹的最大值，\n",
    "\n",
    "如果這個值比目前root的值大，這就 不是中序了，\n",
    "\n",
    "下面這個func的第二個參數也是很有趣， 既然是記一個值，\n",
    "\n",
    "為什麼要用一個list去記，因為call by  reference,\n",
    "\n",
    "之前有做過實驗， 一個list的傳入，只要有做切割，或者傳入裡面某一個元素，\n",
    "\n",
    "都會變成call by value，所以這裡單用一個list只存一個元素，\n",
    "\n",
    "來達成call by reference\n",
    "\n",
    "\n",
    "          6\n",
    "    2\n",
    "true true"
   ]
  },
  {
   "cell_type": "code",
   "execution_count": 3,
   "metadata": {
    "collapsed": true
   },
   "outputs": [],
   "source": [
    "def isBST2(tree, lastNode=[NEG_INFINITY]): \n",
    "    \n",
    "    if tree is None: \n",
    "        return True   \n",
    "    \n",
    "    # 遞迴裡面的第一個func，很重要，可以看出遞迴的走向，\n",
    "    # tree.left，先往左子樹走，直到撞到底。\n",
    "    if not isBST2(tree.left, lastNode):\n",
    "        return False   \n",
    "    \n",
    "    if tree.val < lastNode[0]: \n",
    "        return False   \n",
    "    \n",
    "    # 只要符合中序，這裡的值，就會一步步的更新，左子樹的值，root的值\n",
    "    lastNode[0]=tree.val   \n",
    "    \n",
    "    # 以上處理了，整個左子樹，下面則是換到處理右子樹\n",
    "    return isBST2(tree.right, lastNode) "
   ]
  },
  {
   "cell_type": "markdown",
   "metadata": {},
   "source": [
    "This is a common interview problem, its relatively simple, but not trivial and shows that someone has a knowledge of binary search trees and tree traversals.\n",
    "# Good Job!"
   ]
  }
 ],
 "metadata": {
  "kernelspec": {
   "display_name": "Python 2",
   "language": "python",
   "name": "python2"
  },
  "language_info": {
   "codemirror_mode": {
    "name": "ipython",
    "version": 2
   },
   "file_extension": ".py",
   "mimetype": "text/x-python",
   "name": "python",
   "nbconvert_exporter": "python",
   "pygments_lexer": "ipython2",
   "version": "2.7.10"
  }
 },
 "nbformat": 4,
 "nbformat_minor": 0
}
