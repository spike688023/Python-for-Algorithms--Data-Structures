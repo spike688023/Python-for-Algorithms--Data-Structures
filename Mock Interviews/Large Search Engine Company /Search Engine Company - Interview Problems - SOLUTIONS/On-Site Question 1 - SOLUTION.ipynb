{
 "cells": [
  {
   "cell_type": "markdown",
   "metadata": {},
   "source": [
    "# On-Site Question 1 - SOLUTION\n",
    "___\n",
    "\n",
    "## Question\n",
    "** Given a dice which rolls 1 to 7 (with uniform probability), simulate a 5 sided dice. Preferably, write your solution as a function. **\n",
    "\n",
    "## Requirements\n",
    "\n",
    "** You MUST do this on pen and paper or on a whiteboard. No actual coding is allowed until you've solved it on pen and paper! **"
   ]
  },
  {
   "cell_type": "markdown",
   "metadata": {},
   "source": [
    "這題真的看不懂，要問什麼\n",
    "\n",
    "按，懂了， \n",
    "\n",
    "用一個7面的dice， 去模擬一個5面的dice。\n",
    "\n",
    "因為5面的dice，不會出現6跟7， 所以，\n",
    "\n",
    "投出6 或7 就 要重投，但不return，\n",
    "\n",
    "因為是要模擬5面的dice，所以 \n",
    "\n",
    "只有1到5的值能回傳， \n",
    "\n",
    "這跟用queue去模擬 stack一樣，\n",
    "\n",
    "不管你內部的實作，只管 你的輸出是否符合 stack的規則。"
   ]
  },
  {
   "cell_type": "markdown",
   "metadata": {},
   "source": [
    "___"
   ]
  },
  {
   "cell_type": "markdown",
   "metadata": {},
   "source": [
    "# SOLUTION\n",
    "\n",
    "This is a new problem we haven't seen directly before! Many times this question is asked in the form of functions e.g. your given a function random_7() and you have to take it as an input and create random_5()\n",
    "\n",
    "The key to solving this problem is to make sure you focus on the requirement that the final distribution of the rolls be uniform, also you were not given any requirements on Time and Space, so the solution is actually *very* simple, just keep re-rolling if you get a number greater than 5!\n",
    "\n",
    "We can code this out:"
   ]
  },
  {
   "cell_type": "code",
   "execution_count": 5,
   "metadata": {
    "collapsed": true
   },
   "outputs": [],
   "source": [
    "from random import randint\n",
    " \n",
    "def dice7():\n",
    "    return randint(1, 7)\n",
    " \n",
    "# Our Solution\n",
    "def convert7to5():\n",
    "    \n",
    "    # Starting roll (just needs to be larger than 5)\n",
    "    roll = 7\n",
    "    \n",
    "    while roll > 5:\n",
    "        \n",
    "        roll = dice7()\n",
    "        print 'dice7() produced a roll of ',roll\n",
    "    print ' Your final returned roll is below:'\n",
    "    return roll"
   ]
  },
  {
   "cell_type": "code",
   "execution_count": 6,
   "metadata": {
    "collapsed": false
   },
   "outputs": [
    {
     "name": "stdout",
     "output_type": "stream",
     "text": [
      "dice7() produced a roll of  7\n",
      "dice7() produced a roll of  5\n",
      " Your final returned roll is below:\n"
     ]
    },
    {
     "data": {
      "text/plain": [
       "5"
      ]
     },
     "execution_count": 6,
     "metadata": {},
     "output_type": "execute_result"
    }
   ],
   "source": [
    "convert7to5()"
   ]
  },
  {
   "cell_type": "markdown",
   "metadata": {},
   "source": [
    "Now, the next problem (On-Site Question 2) will be harder, the reverse conversion of rolls! This question should serve as a reminder not to overthink the solution to a question! Keep in mind that our solution has the potential to run for infinity if we keep rolling 6s and 7s (although this is highly unlikely).\n",
    "\n",
    "## Good Job!"
   ]
  }
 ],
 "metadata": {
  "kernelspec": {
   "display_name": "Python 2",
   "language": "python",
   "name": "python2"
  },
  "language_info": {
   "codemirror_mode": {
    "name": "ipython",
    "version": 2
   },
   "file_extension": ".py",
   "mimetype": "text/x-python",
   "name": "python",
   "nbconvert_exporter": "python",
   "pygments_lexer": "ipython2",
   "version": "2.7.10"
  }
 },
 "nbformat": 4,
 "nbformat_minor": 0
}
