{
 "cells": [
  {
   "cell_type": "markdown",
   "metadata": {},
   "source": [
    "# On-Site Question 2 \n",
    "___\n",
    "\n",
    "## Question\n",
    "** Given a dice which rolls from 1 to 5, simulate a uniform 7 sided dice! **\n",
    "\n",
    "## Requirements\n",
    "\n",
    "** You MUST do this on pen and paper or on a whiteboard. No actual coding is allowed until you've come up with a solution by hand! **"
   ]
  },
  {
   "cell_type": "markdown",
   "metadata": {},
   "source": [
    "告夭， 沒有sense，\n",
    "\n",
    "用大去表示小的可以， 但反過來，用小，如何去表示大呢，\n",
    "\n",
    "想到了，用丟二次，的總合，除以7，也就是說，\n",
    "\n",
    "五面的dice，要丟二次，才能去模擬7面的dice。"
   ]
  },
  {
   "cell_type": "markdown",
   "metadata": {},
   "source": [
    "___"
   ]
  },
  {
   "cell_type": "markdown",
   "metadata": {},
   "source": [
    "# Good Luck!"
   ]
  }
 ],
 "metadata": {
  "kernelspec": {
   "display_name": "Python 2",
   "language": "python",
   "name": "python2"
  },
  "language_info": {
   "codemirror_mode": {
    "name": "ipython",
    "version": 2
   },
   "file_extension": ".py",
   "mimetype": "text/x-python",
   "name": "python",
   "nbconvert_exporter": "python",
   "pygments_lexer": "ipython2",
   "version": "2.7.10"
  }
 },
 "nbformat": 4,
 "nbformat_minor": 0
}
