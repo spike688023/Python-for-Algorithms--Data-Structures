{
 "cells": [
  {
   "cell_type": "markdown",
   "metadata": {},
   "source": [
    "# On-Site Question 4 \n",
    "\n",
    "## Question\n",
    "**Find the squareroot of a given number rounded down to the nearest integer, without using the sqrt function. For example, squareroot of a number between [9, 15] should return 3, and [16, 24] should be 4.**\n",
    "\n",
    "## Requirements\n",
    "\n",
    "** Feel free to code this out (but its recommended that you use paper/pencil or whiteboard)**"
   ]
  },
  {
   "cell_type": "markdown",
   "metadata": {},
   "source": [
    "這題，\n",
    "\n",
    "記得以前有寫過，先一步步的來想，\n",
    "\n",
    "以爆力法的觀點來看，\n",
    "\n",
    "一定是先從1 開始迫近，\n",
    "\n",
    "但這太花時間了，\n",
    "\n",
    "我的想法是先除了，再用它來迫近，\n",
    "\n",
    "像是16 除2 是8 ，但8 8 是64 ，一班除2以後， 在平方的值，\n",
    "\n",
    "一定是超過，所以要往下迫近，8再除以2 ＝ 4， 就 抓到了。"
   ]
  },
  {
   "cell_type": "markdown",
   "metadata": {},
   "source": [
    "# Good Luck!"
   ]
  }
 ],
 "metadata": {
  "kernelspec": {
   "display_name": "Python 2",
   "language": "python",
   "name": "python2"
  },
  "language_info": {
   "codemirror_mode": {
    "name": "ipython",
    "version": 2
   },
   "file_extension": ".py",
   "mimetype": "text/x-python",
   "name": "python",
   "nbconvert_exporter": "python",
   "pygments_lexer": "ipython2",
   "version": "2.7.10"
  }
 },
 "nbformat": 4,
 "nbformat_minor": 0
}
