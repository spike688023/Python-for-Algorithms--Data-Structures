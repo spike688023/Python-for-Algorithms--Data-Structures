{
 "cells": [
  {
   "cell_type": "markdown",
   "metadata": {},
   "source": [
    "# On-Site Question 3\n",
    "\n",
    "## Problem\n",
    "\n",
    "**Given two rectangles, determine if they overlap. The rectangles are defined as a Dictionary, for example:**"
   ]
  },
  {
   "cell_type": "code",
   "execution_count": 2,
   "metadata": {
    "collapsed": false
   },
   "outputs": [],
   "source": [
    "r1 = {\n",
    "    \n",
    "         # x and y coordinates of the bottom-left corner of the rectangle\n",
    "         'x': 2 , 'y': 4,\n",
    "         \n",
    "         # Width and Height of rectangle\n",
    "         'w':5,'h':12}"
   ]
  },
  {
   "cell_type": "markdown",
   "metadata": {},
   "source": [
    "照我之前，　跟論文相關的資訊來看，\n",
    " \n",
    "一個方形，最重要的就是對角的二個點，\n",
    " \n",
    "上面的x , y 說明了是左下角點，所以　x 加 w\n",
    " \n",
    "Y 加Ｈ　，　先抓出右上角的點，\n",
    " \n",
    "接下來要想，　怎麼判斷出，二個方形有沒有重疊，\n",
    " \n",
    "而重疊的方形，大小也要抓出來，\n",
    " \n",
    "首先一個方形有二個點，左下角點跟右上角點，\n",
    " \n",
    "先看Ｘ面，　右上角的Ｘ　取其ＭＩＮ\n",
    " \n",
    "　　　　　　左下角的Ｘ　取其ＭＡＸ　\n",
    " \n",
    "前者的ＭＩＮ值，　如果大於　後者的ＭＩＮ，\n",
    " \n",
    "就代表　Ｘ面來看，　是相交的，\n",
    " \n",
    "但還要看Ｙ面，如果二個角度都相交的話，\n",
    " \n",
    "這二個方形是有重疊的。"
   ]
  },
  {
   "cell_type": "markdown",
   "metadata": {},
   "source": [
    "** If the rectangles do overlap, return the dictionary which describes the overlapping section**"
   ]
  },
  {
   "cell_type": "markdown",
   "metadata": {},
   "source": [
    "## Requirements\n",
    "\n",
    "** Make sure the dictionary you output is in the same form as the input.**\n",
    "\n",
    "** Feel free to use an IDE for the code, but make sure you use paper/pencil or whiteboard to draw out your plan and logic**"
   ]
  },
  {
   "cell_type": "markdown",
   "metadata": {},
   "source": [
    "# Good Luck!"
   ]
  }
 ],
 "metadata": {
  "kernelspec": {
   "display_name": "Python 2",
   "language": "python",
   "name": "python2"
  },
  "language_info": {
   "codemirror_mode": {
    "name": "ipython",
    "version": 2
   },
   "file_extension": ".py",
   "mimetype": "text/x-python",
   "name": "python",
   "nbconvert_exporter": "python",
   "pygments_lexer": "ipython2",
   "version": "2.7.10"
  }
 },
 "nbformat": 4,
 "nbformat_minor": 0
}
