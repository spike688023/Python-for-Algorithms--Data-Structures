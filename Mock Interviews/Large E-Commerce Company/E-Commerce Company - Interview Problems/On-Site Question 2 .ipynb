{
 "cells": [
  {
   "cell_type": "markdown",
   "metadata": {},
   "source": [
    "# On-Site Question 2 \n",
    "\n",
    "## Problem\n",
    "\n",
    "** Given a list of integers, write a function that will return a list, in which for each index the element will be the product of all the integers except for the element at that index **\n",
    "\n",
    "**For example, an input of [1,2,3,4] would return [24,12,8,6] by performing [2×3×4,1×3×4,1×2×4,1×2×3] **\n",
    "\n",
    "## Requirements\n",
    "\n",
    "** You can not use division in your answer! Meaning you can't simply multiply all the numbers and then divide by eahc element for each index!**\n",
    "\n",
    "** Try to do this on a white board or with paper/pencil.**"
   ]
  },
  {
   "cell_type": "markdown",
   "metadata": {},
   "source": [
    "分左右二塊來實作：\n",
    " \n",
    "最後再一起乘\n",
    "\n",
    "雖然是對的，但是時間複雜度不好，是 N^2\n",
    "\n"
   ]
  },
  {
   "cell_type": "code",
   "execution_count": 1,
   "metadata": {
    "collapsed": false
   },
   "outputs": [
    {
     "name": "stdout",
     "output_type": "stream",
     "text": [
      "[24, 12, 8, 6]\n",
      "[6, 8, 12, 24]\n"
     ]
    }
   ],
   "source": [
    "\n",
    "def problem2(arr):\n",
    "    list1 = []\n",
    "    index  = 0\n",
    "    while len(list1) != len(arr):\n",
    "        leftpart, rightpart = 1,1\n",
    " \n",
    "        for i in arr[:index]:\n",
    "            leftpart = leftpart * i\n",
    "        for i in arr[index+1:]:\n",
    "            rightpart = rightpart * i\n",
    "        list1.append( leftpart * rightpart )\n",
    "        index += 1\n",
    " \n",
    "    return list1\n",
    " \n",
    " \n",
    "print problem2([1,2,3,4])\n",
    "print problem2([4,3,2,1])"
   ]
  },
  {
   "cell_type": "markdown",
   "metadata": {},
   "source": [
    "# Good Luck!"
   ]
  }
 ],
 "metadata": {
  "kernelspec": {
   "display_name": "Python 2",
   "language": "python",
   "name": "python2"
  },
  "language_info": {
   "codemirror_mode": {
    "name": "ipython",
    "version": 2
   },
   "file_extension": ".py",
   "mimetype": "text/x-python",
   "name": "python",
   "nbconvert_exporter": "python",
   "pygments_lexer": "ipython2",
   "version": "2.7.10"
  }
 },
 "nbformat": 4,
 "nbformat_minor": 0
}
