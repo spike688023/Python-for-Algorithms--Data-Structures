{
 "cells": [
  {
   "cell_type": "markdown",
   "metadata": {},
   "source": [
    "# On-Site Question 1 \n",
    "\n",
    "## Problem\n",
    "\n",
    "** You've been given a list of historical stock prices for a single day for Amazon stock. The index of the list represents the timestamp, so the element at index of 0 is the initial price of the stock, the element at index 1 is the next recorded price of the stock for that day, etc. Your task is to write a function that will return the maximum profit possible from the purchase and sale of a single share of Amazon stock on that day. Keep in mind to try to make this as efficient as possible.**\n",
    "\n",
    "\n",
    "For example, if you were given the list of stock prices:\n",
    "\n",
    "prices = [12,11,15,3,10]\n",
    "\n",
    "Then your function would return the maximum possible profit, which would be 7 (buying at 3 and selling at 10).\n",
    "\n",
    "## Requirements\n",
    "\n",
    "** Try to solve this problem with paper/pencil first without using an IDE. Also keep in mind you should be able to come up with a better solution than just brute forcing every possible sale combination **\n",
    "\n",
    "** Also you can't \"short\" a stock, you must buy *before* you sell the stock. **"
   ]
  },
  {
   "cell_type": "markdown",
   "metadata": {},
   "source": [
    "突然想到，可以用類似　快速排序的方法，假設左邊第一個元素，\n",
    " \n",
    "是最小的，右邊最後一個是最大的，先比一次看看是不是左小於大，\n",
    " \n",
    "相減後，　把值放到profit，　\n",
    " \n",
    "接下來就如快速排序，左邊的指標往前走，如果遇到比自己小才停，\n",
    " \n",
    "右邊的指標，往左走，遇到比自己大才停，　這樣停的規則，\n",
    " \n",
    "是為了停在能大獲利的位置，\n",
    " \n",
    "一樣要判斷，二個指標是否交叉了，一但交叉，就沒有必要看，下去了。\n",
    "\n",
    "\n",
    " "
   ]
  },
  {
   "cell_type": "code",
   "execution_count": 9,
   "metadata": {
    "collapsed": true
   },
   "outputs": [],
   "source": [
    "def profit(stock_prices):\n",
    "    min_left = 0\n",
    "    min_val = stock_prices[min_left]\n",
    "    max_right = len(stock_prices) - 1\n",
    "    max_val = stock_prices[max_right]\n",
    "    max_profit = 0\n",
    "    \n",
    "    # 概念沒錯，但我下面的寫法，會少一個loop，\n",
    "    while min_left < max_right:\n",
    "        if ( max_val - min_val ) > max_profit: \n",
    "            max_profit = max_val - min_val\n",
    "        print \"min_left =\" + str(min_left)\n",
    "        print \"max_right =\" + str(max_right)\n",
    "        \n",
    "        # 會因為 max_right == min_left導致跳出loop\n",
    "        while max_right > min_left and stock_prices[max_right] <= max_val:\n",
    "            max_right -= 1\n",
    "        max_val = stock_prices[max_right]\n",
    "            \n",
    "        while min_left < max_right and stock_prices[min_left] >= min_val:\n",
    "            min_left += 1\n",
    "        min_val = stock_prices[min_left]\n",
    "    \n",
    "    \n",
    "    return max_profit"
   ]
  },
  {
   "cell_type": "code",
   "execution_count": 10,
   "metadata": {
    "collapsed": false
   },
   "outputs": [
    {
     "name": "stdout",
     "output_type": "stream",
     "text": [
      "min_left =0\n",
      "max_right =13\n",
      "min_left =6\n",
      "max_right =12\n",
      "min_left =7\n",
      "max_right =11\n"
     ]
    },
    {
     "data": {
      "text/plain": [
       "38"
      ]
     },
     "execution_count": 10,
     "metadata": {},
     "output_type": "execute_result"
    }
   ],
   "source": [
    "profit([10,12,14,12,13,11,8,7,6,13,23,45,11,10])"
   ]
  },
  {
   "cell_type": "code",
   "execution_count": 20,
   "metadata": {
    "collapsed": true
   },
   "outputs": [],
   "source": [
    "def profit2(stock_prices):\n",
    "    min_left = 0\n",
    "    min_val = stock_prices[min_left]\n",
    "    max_right = len(stock_prices) - 1\n",
    "    max_val = stock_prices[max_right]\n",
    "    max_profit = 0\n",
    "\n",
    "    # 這裡設成1，是為了能進去while \n",
    "    count = 1\n",
    "    \n",
    "    # count == 0 二個index都沒有更新，才離開 , 開始要怎麼做，才能更乾淨\n",
    "    while count > 0:\n",
    "        count = 0\n",
    "        if ( max_val - min_val ) > max_profit: \n",
    "            max_profit = max_val - min_val\n",
    "        print \"min_left =\" + str(min_val)\n",
    "        print \"max_right =\" + str(max_val)\n",
    "        \n",
    "        # 要做一個開關， 在二個index的區間，二個index都沒能更新的話，\n",
    "        # 就離開 while \n",
    "        # 在區間內，有遇到比自已大的，才更新\n",
    "        for i in range(max_right,min_left,-1):\n",
    "            if stock_prices[i] > max_val:\n",
    "                max_right = i\n",
    "                max_val = stock_prices[i]\n",
    "                count += 1\n",
    "                break\n",
    "\n",
    "                \n",
    "        # 在區間內，有遇到比自已小的，才更新\n",
    "        # 有加break，會抓第一個，沒加的話，是抓區間內，最小的\n",
    "        for i in range(min_left,max_right):\n",
    "            if stock_prices[i] < min_val:\n",
    "                min_left = i\n",
    "                min_val = stock_prices[i]\n",
    "                count += 1\n",
    "                break\n",
    "\n",
    "    return max_profit"
   ]
  },
  {
   "cell_type": "code",
   "execution_count": 21,
   "metadata": {
    "collapsed": false
   },
   "outputs": [
    {
     "name": "stdout",
     "output_type": "stream",
     "text": [
      "min_left =10\n",
      "max_right =10\n",
      "min_left =8\n",
      "max_right =11\n",
      "min_left =7\n",
      "max_right =45\n",
      "min_left =6\n",
      "max_right =45\n"
     ]
    },
    {
     "data": {
      "text/plain": [
       "39"
      ]
     },
     "execution_count": 21,
     "metadata": {},
     "output_type": "execute_result"
    }
   ],
   "source": [
    "profit2([10,12,14,12,13,11,8,7,6,13,23,45,11,10])"
   ]
  },
  {
   "cell_type": "markdown",
   "metadata": {},
   "source": [
    "# Good Luck!"
   ]
  }
 ],
 "metadata": {
  "kernelspec": {
   "display_name": "Python 2",
   "language": "python",
   "name": "python2"
  },
  "language_info": {
   "codemirror_mode": {
    "name": "ipython",
    "version": 2
   },
   "file_extension": ".py",
   "mimetype": "text/x-python",
   "name": "python",
   "nbconvert_exporter": "python",
   "pygments_lexer": "ipython2",
   "version": "2.7.10"
  }
 },
 "nbformat": 4,
 "nbformat_minor": 0
}
