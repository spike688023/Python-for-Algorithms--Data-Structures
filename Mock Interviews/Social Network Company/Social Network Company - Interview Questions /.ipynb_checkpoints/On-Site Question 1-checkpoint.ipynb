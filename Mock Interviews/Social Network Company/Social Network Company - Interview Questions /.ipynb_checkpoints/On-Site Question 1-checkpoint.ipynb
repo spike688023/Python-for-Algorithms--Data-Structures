{
 "cells": [
  {
   "cell_type": "markdown",
   "metadata": {},
   "source": [
    "# On-Site Question 1 \n",
    "\n",
    "## Problem\n",
    "\n",
    "** Given a list of integers and a target number, write a function that returns a boolean indicating if its possible to sum two integers from the list to reach the target number **\n",
    "\n",
    "## Requirements\n",
    "\n",
    "** Try pen/paper before coding out your solution **\n",
    "\n",
    "** You can not use an integer element twice. Optimize for time over space **"
   ]
  },
  {
   "cell_type": "markdown",
   "metadata": {},
   "source": [
    "目前對於問題，有個看法，\n",
    "\n",
    "大多是用bottle up的方法去處理問題，\n",
    "\n",
    "由樣本數比較少的情況下，算出答案，而且維持一些資 訊，\n",
    "\n",
    "是在下一個round，多出一個元素 時，一直不斷 把資訊更新 ，\n",
    "\n",
    "這個方法，而這題 ，我想也是用相同的方法，\n",
    "\n",
    "二個元素的話，直接算就 可以了，\n",
    "\n",
    "第三個元素的時侯，把前二個元素 放到集合，因為集合search 只要O(1)\n",
    "\n",
    "每前進一個元素 ，就用 target number 扣掉 當下的元素值， \n",
    "\n",
    "再把出來值，放到集合去找。\n",
    "\n",
    "這個想法，應該 是對的。"
   ]
  },
  {
   "cell_type": "code",
   "execution_count": 13,
   "metadata": {
    "collapsed": false
   },
   "outputs": [],
   "source": [
    "def twosum(target,numbers):\n",
    "    forsear = set()\n",
    "    forsear.add(numbers[0])\n",
    "    forsear.add(numbers[1])\n",
    "    if numbers[0] + numbers[1] == target:\n",
    "        return True\n",
    "    else:\n",
    "        for i in range(2,len(numbers)):\n",
    "            want = target - numbers[i]\n",
    "            if want in forsear:\n",
    "                return True\n",
    "            else:\n",
    "                forsear.add(numbers[i])\n",
    "    return False"
   ]
  },
  {
   "cell_type": "code",
   "execution_count": 19,
   "metadata": {
    "collapsed": false
   },
   "outputs": [
    {
     "name": "stdout",
     "output_type": "stream",
     "text": [
      "True\n",
      "False\n",
      "False\n",
      "True\n",
      "True\n"
     ]
    }
   ],
   "source": [
    "print twosum(5,[1,2,3])\n",
    "print twosum(6,[1,2,3])\n",
    "print twosum(10,[1,2,3,4])\n",
    "print twosum(10,[1,2,3,4,6])\n",
    "print twosum(4,[1,3,5,1,7])"
   ]
  },
  {
   "cell_type": "markdown",
   "metadata": {},
   "source": [
    "# Good Luck!"
   ]
  }
 ],
 "metadata": {
  "kernelspec": {
   "display_name": "Python 2",
   "language": "python",
   "name": "python2"
  },
  "language_info": {
   "codemirror_mode": {
    "name": "ipython",
    "version": 2
   },
   "file_extension": ".py",
   "mimetype": "text/x-python",
   "name": "python",
   "nbconvert_exporter": "python",
   "pygments_lexer": "ipython2",
   "version": "2.7.10"
  }
 },
 "nbformat": 4,
 "nbformat_minor": 0
}
