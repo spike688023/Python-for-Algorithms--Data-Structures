{
 "cells": [
  {
   "cell_type": "markdown",
   "metadata": {},
   "source": [
    "# Phone Screen \n",
    "\n",
    "## Problem \n",
    "\n",
    "** Remove duplicate characters in a given string keeping only the first occurrences. For example, if the input is ‘tree traversal’ the output will be ‘tre avsl’. **\n",
    "\n",
    "## Requirements\n",
    "\n",
    "**Complete this problem on a text editor that does not have syntax highlighting, such as  a goolge doc!**"
   ]
  },
  {
   "cell_type": "markdown",
   "metadata": {},
   "source": [
    "想到了，用集合　或　list　去紀録己經看過的值，　\n",
    " \n",
    "沒看過的字元，　放進ＬＩＳＴ，　把這個字元印來，　\n",
    " \n",
    "如果有就略過不印。\n",
    " \n",
    "  1\n",
    "  2 def nodup(string):\n",
    "  3     seen = []\n",
    "  4     str = \"\"\n",
    "  5     for i in string:\n",
    "  6         if i in seen:\n",
    "  7             pass\n",
    "  8         else:\n",
    "  9             seen.append(i)\n",
    "10             str += i\n",
    "11     return str\n",
    "12\n",
    "13 print nodup(\"tree traversal\")\n",
    " \n",
    "看了答案，想法一樣，　只不過它用的是ＳＥＴ，\n",
    " \n",
    "在比較的時間上，　跟list會有差嗎？\n",
    " \n",
    "Set data structure perfectly suits our purpose. It stores keys and provides constant time search for key existence. \n",
    " \n",
    "為什麼　set 在找的時間上面，只有常數時間，　\n",
    " \n",
    "If the input is guaranteed to be in standard ASCII form, we can just create a boolean array of size 128 and perform lookups by accessing the index of the character’s ASCII value in constant time. \n",
    " \n",
    "這句值得去思考看看，　為什麼？\n",
    " \n",
    "https://www.computerhope.com/jargon/a/ascii.htm\n",
    " \n",
    "喔，　因為ascii的ＳＬＯＴ，　就２５６個，　有字元只有佔裡面的１２８個ＳＬＯＴ，\n",
    " \n",
    "難怪說只要用　boolean去存就可以了，　"
   ]
  },
  {
   "cell_type": "code",
   "execution_count": null,
   "metadata": {
    "collapsed": true
   },
   "outputs": [],
   "source": [
    "\n",
    "def nodup(string):\n",
    "     seen = []\n",
    "     str = \"\"\n",
    "     for i in string:\n",
    "         if i in seen:\n",
    "             pass\n",
    "         else:\n",
    "             seen.append(i)\n",
    "             str += i\n",
    "     return str\n",
    "\n",
    "print nodup(\"tree traversal\")"
   ]
  },
  {
   "cell_type": "markdown",
   "metadata": {},
   "source": [
    "# Good Luck!"
   ]
  }
 ],
 "metadata": {
  "kernelspec": {
   "display_name": "Python 2",
   "language": "python",
   "name": "python2"
  },
  "language_info": {
   "codemirror_mode": {
    "name": "ipython",
    "version": 2
   },
   "file_extension": ".py",
   "mimetype": "text/x-python",
   "name": "python",
   "nbconvert_exporter": "python",
   "pygments_lexer": "ipython2",
   "version": "2.7.10"
  }
 },
 "nbformat": 4,
 "nbformat_minor": 0
}
