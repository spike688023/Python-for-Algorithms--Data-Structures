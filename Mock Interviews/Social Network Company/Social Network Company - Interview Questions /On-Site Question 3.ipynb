{
 "cells": [
  {
   "cell_type": "markdown",
   "metadata": {},
   "source": [
    "# On-Site Question 3 \n",
    "\n",
    "## Problem\n",
    "\n",
    "** Create a function that takes in a list of unsorted prices (integers) and a maximum possible price value, and return a sorted list of prices**\n",
    "\n",
    "## Requirements\n",
    "\n",
    "** Your function should be able to perform this in less than O(nlogn) time. **"
   ]
  },
  {
   "cell_type": "markdown",
   "metadata": {},
   "source": [
    "這題的重點，在於多給 你一個 參數， maximum possible ，\n",
    "\n",
    "如何在多給 你一個maximum的參數，去降低， 排序的時間複雜度，\n",
    "\n",
    "logN只要一出現，就會有個樹狀結構出現在腦中，\n",
    "\n",
    "一般都代表樹的高度，n logN 的時間複雜度， 可以這樣想，\n",
    "\n",
    "掃過每個元素，用它們來建立二元樹，最糟 的情況， 元素 要走lgN 的高度，\n",
    "\n",
    "才能找到自已的位置 ， 所 以是N LogN .\n",
    "\n",
    "要能改進到比 nLogN快 ，那只能從 排序中的快速排序去看，\n",
    "\n",
    "想想它的worst case , "
   ]
  },
  {
   "cell_type": "markdown",
   "metadata": {},
   "source": [
    "# Good Luck!"
   ]
  }
 ],
 "metadata": {
  "kernelspec": {
   "display_name": "Python 2",
   "language": "python",
   "name": "python2"
  },
  "language_info": {
   "codemirror_mode": {
    "name": "ipython",
    "version": 2
   },
   "file_extension": ".py",
   "mimetype": "text/x-python",
   "name": "python",
   "nbconvert_exporter": "python",
   "pygments_lexer": "ipython2",
   "version": "2.7.10"
  }
 },
 "nbformat": 4,
 "nbformat_minor": 0
}
