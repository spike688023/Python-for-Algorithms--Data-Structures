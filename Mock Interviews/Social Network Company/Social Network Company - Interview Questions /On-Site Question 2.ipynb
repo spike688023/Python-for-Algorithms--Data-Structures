{
 "cells": [
  {
   "cell_type": "markdown",
   "metadata": {},
   "source": [
    "# On-Site Question 2 \n",
    "\n",
    "## Problem\n",
    "\n",
    "** Given a list of account ID numbers (integers) which contains duplicates , find the one unique integer. (the list is guaranteed to only have one unique (non-duplicated) integer **\n",
    "\n",
    "## Requirements\n",
    "\n",
    "** Do not use built-in Python functions or methods **"
   ]
  },
  {
   "cell_type": "markdown",
   "metadata": {},
   "source": [
    "要用set 解呢，  還是用 dict,\n",
    "\n",
    "set應該 不行 ，是用dict,\n",
    "\n",
    "但是呢， 掃過一遍就 能把， 我們要的資 訊建立起來，\n",
    "\n",
    "但是，要如何快速的，從value = 1 反過來抓出key .\n",
    "\n",
    "先不要想怎麼快速反回找，但至少，\n",
    "\n",
    "我們能從 n/2的 elements中，找到我們要的，\n",
    "\n",
    "而且不用掃原過本n個元素，  只要掃一半。\n",
    "\n",
    "先這樣實作吧。\n",
    "\n",
    "哇，字典不知道怎麼設 初始值為0 \n",
    "\n"
   ]
  },
  {
   "cell_type": "code",
   "execution_count": 5,
   "metadata": {
    "collapsed": true
   },
   "outputs": [],
   "source": [
    "def findunique(nums):\n",
    "    data = {}\n",
    "    for i in nums:\n",
    "        if data.has_key(i):\n",
    "            data[i] += 1\n",
    "        else:\n",
    "            data[i] = 1\n",
    "    for i in nums:\n",
    "        if data[i] == 1:\n",
    "            return i"
   ]
  },
  {
   "cell_type": "code",
   "execution_count": 6,
   "metadata": {
    "collapsed": false
   },
   "outputs": [
    {
     "data": {
      "text/plain": [
       "2"
      ]
     },
     "execution_count": 6,
     "metadata": {},
     "output_type": "execute_result"
    }
   ],
   "source": [
    "findunique([1,1,2,3,3])"
   ]
  },
  {
   "cell_type": "markdown",
   "metadata": {},
   "source": [
    "# Good Luck!"
   ]
  }
 ],
 "metadata": {
  "kernelspec": {
   "display_name": "Python 2",
   "language": "python",
   "name": "python2"
  },
  "language_info": {
   "codemirror_mode": {
    "name": "ipython",
    "version": 2
   },
   "file_extension": ".py",
   "mimetype": "text/x-python",
   "name": "python",
   "nbconvert_exporter": "python",
   "pygments_lexer": "ipython2",
   "version": "2.7.10"
  }
 },
 "nbformat": 4,
 "nbformat_minor": 0
}
