{
 "cells": [
  {
   "cell_type": "markdown",
   "metadata": {},
   "source": [
    "Algorithm Analysis and Big O:\n",
    "\n",
    "這個章節的話， 要記得 ，\n",
    "\n",
    "各個演算法的時間跟空間複雜度，\n",
    "\n",
    "不用記，也要會敲的出來。\n",
    "\n",
    "下面，光是array就列了10個了，\n",
    "\n",
    "看來，之後的練習方式， 是做字卡， \n",
    "\n",
    "對各大類做分類， 抽中那個分類 ，就把這裡列的相關題目都寫一寫。\n",
    "\n",
    "我想寫怎麼練習了， 我建了一個Spike_Practice的folder，\n",
    "\n",
    "裡面放了，我列出要練習的題目，練習完，只要用git ，去做git reset --hard,\n",
    "\n",
    "就可以都還原，全部重做了，真是方便呢！"
   ]
  },
  {
   "cell_type": "markdown",
   "metadata": {},
   "source": [
    "第一題是概念，所以這裡，只有8題要寫。\n",
    "\n",
    "Array Sequences：\n",
    "    1. low level array: 講 array跟記憶體的關係\n",
    "    2. Dynamic Array: 要知道什麼是動態陣列，跟array有什麼差\n",
    "    \n",
    "    下面是跟array有關的經典問題 \n",
    "    3. Anagram Check\n",
    "    4. Array Pair Sum\n",
    "    5. Find the Missing Element\n",
    "    6. Largest Continuous Sum\n",
    "    7. Sentence Reversal\n",
    "    8. String Compression\n",
    "    9. Unique Characters in String"
   ]
  },
  {
   "cell_type": "markdown",
   "metadata": {},
   "source": [
    "Stacks Queues and Deques:\n",
    "    1. Implementation of Stack\n",
    "    2. Implementation of Queue\n",
    "    3. Implementation of Deque\n",
    "    4. Balanced Parentheses Check\n",
    "    5. Implement a Queue using 2 Stacks"
   ]
  },
  {
   "cell_type": "markdown",
   "metadata": {},
   "source": [
    "Linked_List:\n",
    "    1. Implementation of Linked List\n",
    "    2. Implementation of Double Linked List\n",
    "    3. Linked List Nth to Last Node\n",
    "    4. Linked List Reversal \n",
    "    5. Singly Linked List Cycle Check"
   ]
  },
  {
   "cell_type": "markdown",
   "metadata": {},
   "source": [
    "Recursion:\n",
    "    1. Recursion Homework Example Problems\n",
    "    2. Memoization\n",
    "    3. Reverse String\n",
    "    4. String Permutation\n",
    "    5. Fibonacci Sqeuence\n",
    "    6. Coin Change"
   ]
  },
  {
   "cell_type": "markdown",
   "metadata": {},
   "source": [
    "Trees:\n",
    "    1. Binary Heap Implementation\n",
    "    2. Tree Representation Implementation (Lists)\n",
    "    3. Tree Representation Implementation (Nodes and References)\n",
    "    4. Binary Search Tree Check\n",
    "    5. Tree Level Order Print\n",
    "    6. Trim a Binary Search Tree"
   ]
  },
  {
   "cell_type": "markdown",
   "metadata": {},
   "source": [
    "Searching and Sorting:\n",
    "    1. Implementation of a Hash Table  這個先看懂，能講出東西就好\n",
    "    2. Implementation of Binary Search\n",
    "    3. Implementation of Bubble Sort\n",
    "    4. Implementation of Insertion Sort\n",
    "    5. Implementation of Merge Sort\n",
    "    6. Implementation of Quick Sort\n",
    "    7. Implementation of Selection Sort\n",
    "    8. Implementation of Shell Sort    這個比較冷門\n",
    "    9. CallByValur_CallByReference "
   ]
  },
  {
   "cell_type": "markdown",
   "metadata": {},
   "source": [
    "Graph and Algorithm:\n",
    "    1. Implementation of Adjacency List\n",
    "    2. Implementation of Breadth First Search\n",
    "    3. Implementation of Depth First Search\n",
    "    4. Implementation of Graph Overview\n",
    "    5. Knight's Tour Example Problem\n",
    "    6. Word Ladder Example Problem\n",
    "    7. Implementation of Graph"
   ]
  }
 ],
 "metadata": {
  "kernelspec": {
   "display_name": "Python 2",
   "language": "python",
   "name": "python2"
  },
  "language_info": {
   "codemirror_mode": {
    "name": "ipython",
    "version": 2
   },
   "file_extension": ".py",
   "mimetype": "text/x-python",
   "name": "python",
   "nbconvert_exporter": "python",
   "pygments_lexer": "ipython2",
   "version": "2.7.10"
  }
 },
 "nbformat": 4,
 "nbformat_minor": 0
}
