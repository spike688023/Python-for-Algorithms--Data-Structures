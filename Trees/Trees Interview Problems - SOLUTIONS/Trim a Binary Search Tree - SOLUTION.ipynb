{
 "cells": [
  {
   "cell_type": "markdown",
   "metadata": {},
   "source": [
    "# Trim a Binary Search Tree - SOLUTION\n",
    "\n",
    "## Problem Statement\n",
    "\n",
    "Given the root of a binary search tree and 2 numbers min and max, trim the tree such that all the numbers in the new tree are between min and max (inclusive). The resulting tree should still be a valid binary search tree. So, if we get this tree as input:\n",
    "___\n",
    "\n",
    "![title](bst1.png)\n",
    "___\n",
    "and we’re given **min value as 5** and **max value as 13**, then the resulting binary search tree should be: \n",
    "___\n",
    "![title](bst_trim.png)\n",
    "___\n",
    "We should remove all the nodes whose value is not between min and max. \n",
    "\n",
    "___"
   ]
  },
  {
   "cell_type": "markdown",
   "metadata": {},
   "source": [
    "## Solution\n",
    "\n",
    "We can do this by performing a post-order traversal of the tree. We first process the left children, then right children, and finally the node itself. So we form the new tree bottom up, starting from the leaves towards the root. As a result while processing the node itself, both its left and right subtrees are valid trimmed binary search trees (may be NULL as well).\n",
    "\n",
    "At each node we’ll return a reference based on its value, which will then be assigned to its parent’s left or right child pointer, depending on whether the current node is left or right child of the parent. If current node’s value is between min and max (min<=node<=max) then there’s no action need to be taken, so we return the reference to the node itself. If current node’s value is less than min, then we return the reference to its right subtree, and discard the left subtree. Because if a node’s value is less than min, then its left children are definitely less than min since this is a binary search tree. But its right children may or may not be less than min we can’t be sure, so we return the reference to it. Since we’re performing bottom-up post-order traversal, its right subtree is already a trimmed valid binary search tree (possibly NULL), and left subtree is definitely NULL because those nodes were surely less than min and they were eliminated during the post-order traversal. Remember that in post-order traversal we first process all the children of a node, and then finally the node itself.\n",
    "\n",
    "Similar situation occurs when node’s value is greater than max, we now return the reference to its left subtree. Because if a node’s value is greater than max, then its right children are definitely greater than max. But its left children may or may not be greater than max. So we discard the right subtree and return the reference to the already valid left subtree. The code is easier to understand:"
   ]
  },
  {
   "cell_type": "markdown",
   "metadata": {},
   "source": [
    "樹狀結構，很常跟Recursive一起用。\n",
    "\n",
    "Recursive還是有想難想通，\n",
    "\n",
    "首先，tree的追綜有三種，inoder  preorder  postorder,\n",
    "\n",
    "以Recursive來看，就是處理current Node的時間點，inorder放中間，\n",
    "\n",
    "其它分別是放前面跟後面， 以三個node為例，current node就是中間的parent，\n",
    "\n",
    "postorder是先處理完左右子樹，才輪到parent，\n",
    "\n",
    "所以處理方式，是放在最後面， \n",
    "\n",
    "如果弟回呼叫是多個，可以用bottom up的角度去看，或許會簡單理解。\n",
    "\n",
    "\n",
    "如果，弟回是只有一條branch，就是 func內，只有呼叫自已一次，\n",
    "\n",
    "這種以top-down的角度去看 ，會容易理解的多，\n",
    "\n",
    "而多條branch的話，以bottom up 去看。\n",
    "\n",
    "每次很久沒看，都會忘了， 前中後序，  是指，root 放的位置 ，\n",
    "\n",
    "中序:  left root right\n",
    "前序: root left right\n",
    "後序: left right root\n",
    "\n",
    "中序：\n",
    "\n",
    "def inorder(tree):\n",
    "    if tree != None:\n",
    "        inorder(tree.left)\n",
    "        print(tree.val)\n",
    "        inorder(tree.right)\n",
    "        \n",
    "前序:\n",
    "def inorder(tree):\n",
    "    if tree != None:\n",
    "        print(tree.val)\n",
    "        inorder(tree.left)\n",
    "        inorder(tree.right)\n",
    "\n",
    "\n",
    "後序:\n",
    "def inorder(tree):\n",
    "    if tree != None:\n",
    "        inorder(tree.left)\n",
    "        inorder(tree.right)\n",
    "        print(tree.val)\n",
    "        \n",
    "        \n",
    "http://emn178.pixnet.net/blog/post/95499086-tree-traversal%28%E6%A8%B9%E7%9A%84%E8%B5%B0%E8%A8%AA%29\n",
    "\n",
    "前中後序，大家只注意在它的順序， 但更要注意的是，不同的順序，\n",
    "\n",
    "影響了，它處理每個node的順序， 像後序就是 把root 放最後面，\n",
    "\n",
    "先去處理左子樹再右子樹。\n",
    "\n",
    "這裡想一想 ，知道，為什麼要用後序了， 因為要先左右符合規範再來看root."
   ]
  },
  {
   "cell_type": "code",
   "execution_count": 1,
   "metadata": {
    "collapsed": true
   },
   "outputs": [],
   "source": [
    "def trimBST(tree, minVal, maxVal): \n",
    "    \n",
    "    if not tree: \n",
    "        return \n",
    "    \n",
    "    tree.left=trimBST(tree.left, minVal, maxVal) \n",
    "    tree.right=trimBST(tree.right, minVal, maxVal) \n",
    "    \n",
    "    # 回傳給上層\n",
    "    if minVal<=tree.val<=maxVal: \n",
    "        return tree \n",
    "    \n",
    "    # 這是顆BST ，所以 tree.val 小於我們要的值， 理所當然，左子樹內的值也都比它小，\n",
    "    # 所以符合規範的只剩  右子樹， 所以把右子樹往上送\n",
    "    if tree.val<minVal: \n",
    "        return tree.right \n",
    "    \n",
    "    # 這裡的想法就跟上面的反過來\n",
    "    if tree.val>maxVal: \n",
    "        return tree.left "
   ]
  },
  {
   "cell_type": "markdown",
   "metadata": {},
   "source": [
    "我覺得， 這個答案有點錯誤， 因為tree.val == minVal時， 這顆樹的左子樹跟自已，\n",
    "\n",
    "是不要的，\n",
    "\n",
    "哎，印出來是對的哎，喔， 告夭，例子中，沒有剛好等於 min的 Node, \n",
    "\n",
    "不管，我覺得 它是錯的，懶的弄例子出來了，\n",
    "\n",
    "如果min也是inclusive的話 ，那就 是對的， "
   ]
  },
  {
   "cell_type": "code",
   "execution_count": 3,
   "metadata": {},
   "outputs": [
    {
     "name": "stdout",
     "output_type": "stream",
     "text": [
      " 8\n",
      " 3 10\n",
      " 1 6 14\n",
      " 4 7 13\n",
      "trimBST\n",
      " 8\n",
      " 6 10\n",
      " 7 13\n"
     ]
    }
   ],
   "source": [
    "class Node:\n",
    "    def __init__(self, x , parent=None):\n",
    "        self.val = x\n",
    "        self.left = None\n",
    "        self.right = None\n",
    "        self.parent = parent\n",
    "\n",
    "def levelOrderPrint2(tree):\n",
    "    list1 = [tree]\n",
    "    #print list1\n",
    "    while list1:\n",
    "        list2 = []\n",
    "        str1 = ''\n",
    "        for i in list1:\n",
    "            str1 += ' ' + str(i.val)\n",
    "            # None 就等於是 False，所以不用打 i.left != None\n",
    "            # 打下面這樣，就可以了\n",
    "            if i.left : list2.append(i.left)\n",
    "            if i.right : list2.append(i.right)\n",
    "        print str1\n",
    "        list1 = list2\n",
    "        \n",
    "root = Node(8)\n",
    "n3 = root.left = Node(3, root)\n",
    "n10 = root.right = Node(10 , root)\n",
    "n1 = n3.left = Node(1, n3)\n",
    "n6 = n3.right = Node(6, n3)\n",
    "n4 = n6.left = Node(4, n6)\n",
    "n7 = n6.right = Node(7, n6)\n",
    "\n",
    "n14 = n10.right = Node(14, n10)\n",
    "n13 = n14.left = Node(13, n14)\n",
    "\n",
    "levelOrderPrint2(root)\n",
    "print \"trimBST\"\n",
    "trimBST(root,5,13)\n",
    "levelOrderPrint2(root)"
   ]
  },
  {
   "cell_type": "markdown",
   "metadata": {},
   "source": [
    "The complexity of this algorithm is O(N), where N is the number of nodes in the tree. Because we basically perform a post-order traversal of the tree, visiting each and every node one. This is optimal because we should visit every node at least once. This is a very elegant question that demonstrates the effectiveness of recursion in trees. "
   ]
  },
  {
   "cell_type": "markdown",
   "metadata": {},
   "source": [
    "# Good Job!"
   ]
  }
 ],
 "metadata": {
  "kernelspec": {
   "display_name": "Python 3",
   "language": "python",
   "name": "python3"
  },
  "language_info": {
   "codemirror_mode": {
    "name": "ipython",
    "version": 3
   },
   "file_extension": ".py",
   "mimetype": "text/x-python",
   "name": "python",
   "nbconvert_exporter": "python",
   "pygments_lexer": "ipython3",
   "version": "3.6.3"
  }
 },
 "nbformat": 4,
 "nbformat_minor": 1
}
