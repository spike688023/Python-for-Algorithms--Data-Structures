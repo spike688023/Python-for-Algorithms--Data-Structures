{
 "cells": [
  {
   "cell_type": "markdown",
   "metadata": {},
   "source": [
    "# Binary Search Tree Check - SOLUTION\n",
    "\n",
    "## Problem Statement\n",
    "\n",
    "Given a binary tree, check whether it’s a binary search tree or not.\n",
    "\n",
    "** Again, no solution cell, just worry about your code making sense logically. Hint: Think about tree traversals. **\n",
    "\n",
    "## Solution\n",
    "\n",
    "Here is a simple solution- If a tree is a binary search tree, then traversing the tree inorder should lead to sorted order of the values in the tree. So, we can perform an inorder traversal and check whether the node values are sorted or not. "
   ]
  },
  {
   "cell_type": "code",
   "execution_count": 7,
   "metadata": {
    "collapsed": false
   },
   "outputs": [
    {
     "name": "stdout",
     "output_type": "stream",
     "text": [
      "True\n"
     ]
    }
   ],
   "source": [
    "tree_vals = []\n",
    "\n",
    "# 想法跟我一樣，而最簡單的 inorder，沒想到這麼簡單寫\n",
    "def inorder(tree):\n",
    "    if tree != None:\n",
    "        inorder(tree.getLeftChild())\n",
    "        tree_vals.append(tree.getRootVal())\n",
    "        inorder(tree.getRightChild())\n",
    "        \n",
    "# 這裡呢，雖然它寫的很簡單，只要一行 ，\n",
    "# 但它時間複雜度比我高，它要nlgn，因為有排序，\n",
    "# 而且還多了個比對二個list，而我只有用一個for \n",
    "# 所以我時間複雜度是 N 而已\n",
    "def sort_check(tree_vals):\n",
    "    return tree_vals == sorted(tree_vals)\n",
    "\n",
    "inorder(tree)\n",
    "sort_check(tree_vals)"
   ]
  },
  {
   "cell_type": "markdown",
   "metadata": {},
   "source": [
    "Another classic solution is to keep track of the minimum and maximum values a node can take. And at each node we will check whether its value is between the min and max values it’s allowed to take. The root can take any value between negative infinity and positive infinity. At any node, its left child should be smaller than or equal than its own value, and similarly the right child should be larger than or equal to. So during recursion, we send the current value as the new max to our left child and send the min as it is without changing. And to the right child, we send the current value as the new min and send the max without changing."
   ]
  },
  {
   "cell_type": "markdown",
   "metadata": {},
   "source": [
    "下面的想法，跟我上網查的那個，是一樣的，來看看有什麼差別。"
   ]
  },
  {
   "cell_type": "code",
   "execution_count": 8,
   "metadata": {
    "collapsed": false
   },
   "outputs": [
    {
     "name": "stdout",
     "output_type": "stream",
     "text": [
      "True\n",
      "False\n"
     ]
    }
   ],
   "source": [
    "class Node:\n",
    "    def __init__(self, k, val):\n",
    "        self.key = k\n",
    "        self.value = val\n",
    "        self.left = None\n",
    "        self.right = None\n",
    "\n",
    "# 這就是抓最大值出來，這個就是用弟回，裡面呼叫二次，\n",
    "# 深度就是樹的高度，宽度是2，\n",
    "# 先看完整個 function，可以看出，整顆樹分成左右二顆處理，\n",
    "# 處理方式都一樣，只不過左子樹先處理而已\n",
    "def tree_max(node):\n",
    "    if not node:\n",
    "        return float(\"-inf\")\n",
    "    maxleft  = tree_max(node.left)\n",
    "    maxright = tree_max(node.right)\n",
    "    return max(node.key, maxleft, maxright)\n",
    "\n",
    "# 抓node這顆樹中的最小值出來\n",
    "def tree_min(node):\n",
    "    if not node:\n",
    "        return float(\"inf\")\n",
    "    minleft  = tree_min(node.left)\n",
    "    minright = tree_min(node.right)\n",
    "    return min(node.key, minleft, minright)\n",
    "\n",
    "# 看一下主要function是怎麼想的，\n",
    "def verify(node):\n",
    "    # not node 代表這是空的tree\n",
    "    if not node:\n",
    "        return True\n",
    "    # 概念很像，但這個是抓子樹的最大值跟最小值出來，跟current Node比較 \n",
    "    if (tree_max(node.left) <= node.key <= tree_min(node.right) and\n",
    "        verify(node.left) and verify(node.right)):\n",
    "        return True\n",
    "    else:\n",
    "        return False\n",
    "\n",
    "# 原來 value可以放數字以外的東西\n",
    "root= Node(10, \"Hello\")\n",
    "root.left = Node(5, \"Five\")\n",
    "root.right= Node(30, \"Thirty\")\n",
    "\n",
    "print(verify(root)) # prints True, since this tree is valid\n",
    "\n",
    "root = Node(10, \"Ten\")\n",
    "root.right = Node(20, \"Twenty\")\n",
    "root.left = Node(5, \"Five\")\n",
    "root.left.right = Node(15, \"Fifteen\")\n",
    "\n",
    "print(verify(root)) # prints False, since 15 is to the left of 10"
   ]
  },
  {
   "cell_type": "markdown",
   "metadata": {},
   "source": [
    "This is a classic interview problem, so feel free to just Google search \"Validate BST\" for more information on this problem!"
   ]
  },
  {
   "cell_type": "markdown",
   "metadata": {},
   "source": [
    "## Good Job!"
   ]
  }
 ],
 "metadata": {
  "kernelspec": {
   "display_name": "Python 2",
   "language": "python",
   "name": "python2"
  },
  "language_info": {
   "codemirror_mode": {
    "name": "ipython",
    "version": 2
   },
   "file_extension": ".py",
   "mimetype": "text/x-python",
   "name": "python",
   "nbconvert_exporter": "python",
   "pygments_lexer": "ipython2",
   "version": "2.7.10"
  }
 },
 "nbformat": 4,
 "nbformat_minor": 0
}
