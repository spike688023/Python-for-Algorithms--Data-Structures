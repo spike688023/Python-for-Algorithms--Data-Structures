{
 "cells": [
  {
   "cell_type": "markdown",
   "metadata": {},
   "source": [
    "# Binary Heap Implementation\n",
    "\n",
    "Here is the reference code for the Binary Heap Implementation. Make sure to refer to the video lecture for the full explanation!"
   ]
  },
  {
   "cell_type": "markdown",
   "metadata": {},
   "source": [
    "### Binary Heap Operations\n",
    "**The basic operations we will implement for our binary heap are as follows:**\n",
    "\n",
    "* BinaryHeap() creates a new, empty, binary heap.\n",
    "* insert(k) adds a new item to the heap.\n",
    "* findMin() returns the item with the minimum key value, leaving item in the heap.\n",
    "* delMin() returns the item with the minimum key value, removing the item from the heap.\n",
    "* isEmpty() returns true if the heap is empty, false otherwise.\n",
    "* size() returns the number of items in the heap.\n",
    "* buildHeap(list) builds a new heap from a list of keys."
   ]
  },
  {
   "cell_type": "markdown",
   "metadata": {},
   "source": [
    "只要出現Binary的字樣，就是 branch只有二條，heap的話 ，有分成\n",
    "\n",
    "minHeap , maxHeap，取決於root的值， 是要放最大還是最小值，\n",
    "\n",
    "這裡Tree的結構，是用list來存，而root 的index不是用0開始，\n",
    "\n",
    "因為會跟tree的高度，對不起來，\n",
    "\n",
    "root的index是1 ，  2的0次方是1 ， 0代表高度，\n",
    "\n",
    "   1\n",
    "  2  3\n",
    " 4 5 6 7 \n",
    " \n",
    " 2的1次是2  ，次方代表樹的高度 ，\n",
    " \n",
    " 這種 結構，要找母或子，是用除或乘法，\n",
    " \n",
    " 除法的話 ，是看商， 乘法的話 ， 有二種 \n",
    " \n",
    " 一種 是有加1的， 另一種是沒有加1 ，分別代表左子樹跟右子樹。\n",
    " \n",
    " 忘了講 一點，heap，只重視 上層跟下層的大小關 係，\n",
    " \n",
    " 左右node的大小關係， 是不重要的。"
   ]
  },
  {
   "cell_type": "code",
   "execution_count": 1,
   "metadata": {
    "collapsed": true
   },
   "outputs": [],
   "source": [
    "class BinHeap:\n",
    "    def __init__(self):\n",
    "        self.heapList = [0]\n",
    "        self.currentSize = 0\n",
    "\n",
    "\n",
    "    def percUp(self,i):\n",
    "        \n",
    "        while i // 2 > 0:\n",
    "            \n",
    "            if self.heapList[i] < self.heapList[i // 2]:\n",
    "                \n",
    "            \n",
    "                tmp = self.heapList[i // 2]\n",
    "                self.heapList[i // 2] = self.heapList[i]\n",
    "                self.heapList[i] = tmp\n",
    "            i = i // 2\n",
    "\n",
    "    def insert(self,k):\n",
    "        \n",
    "        self.heapList.append(k)\n",
    "        self.currentSize = self.currentSize + 1\n",
    "        self.percUp(self.currentSize)\n",
    "\n",
    "    def percDown(self,i):\n",
    "        \n",
    "        while (i * 2) <= self.currentSize:\n",
    "            \n",
    "            mc = self.minChild(i)\n",
    "            if self.heapList[i] > self.heapList[mc]:\n",
    "                \n",
    "                tmp = self.heapList[i]\n",
    "                self.heapList[i] = self.heapList[mc]\n",
    "                self.heapList[mc] = tmp\n",
    "            i = mc\n",
    "\n",
    "    def minChild(self,i):\n",
    "        \n",
    "        if i * 2 + 1 > self.currentSize:\n",
    "            \n",
    "            return i * 2\n",
    "        else:\n",
    "            \n",
    "            if self.heapList[i*2] < self.heapList[i*2+1]:\n",
    "                return i * 2\n",
    "            else:\n",
    "                return i * 2 + 1\n",
    "\n",
    "    def delMin(self):\n",
    "        retval = self.heapList[1]\n",
    "        self.heapList[1] = self.heapList[self.currentSize]\n",
    "        self.currentSize = self.currentSize - 1\n",
    "        self.heapList.pop()\n",
    "        self.percDown(1)\n",
    "        return retval\n",
    "\n",
    "    def buildHeap(self,alist):\n",
    "        i = len(alist) // 2\n",
    "        self.currentSize = len(alist)\n",
    "        self.heapList = [0] + alist[:]\n",
    "        while (i > 0):\n",
    "            self.percDown(i)\n",
    "            i = i - 1"
   ]
  },
  {
   "cell_type": "code",
   "execution_count": null,
   "metadata": {
    "collapsed": true
   },
   "outputs": [],
   "source": []
  }
 ],
 "metadata": {
  "kernelspec": {
   "display_name": "Python 2",
   "language": "python",
   "name": "python2"
  },
  "language_info": {
   "codemirror_mode": {
    "name": "ipython",
    "version": 2
   },
   "file_extension": ".py",
   "mimetype": "text/x-python",
   "name": "python",
   "nbconvert_exporter": "python",
   "pygments_lexer": "ipython2",
   "version": "2.7.10"
  }
 },
 "nbformat": 4,
 "nbformat_minor": 0
}
