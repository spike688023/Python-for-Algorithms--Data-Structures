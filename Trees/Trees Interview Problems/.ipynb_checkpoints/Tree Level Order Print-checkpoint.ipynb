{
 "cells": [
  {
   "cell_type": "markdown",
   "metadata": {},
   "source": [
    "# Tree Level Order Print \n",
    "\n",
    "Given a binary tree of integers, print it in level order. The output will contain space between the numbers in the same level, and new line between different levels. For example, if the tree is: \n",
    "___\n",
    "![title](tree_print.png)\n",
    "___\n",
    "The output should be: \n",
    "\n",
    "    1 \n",
    "    2 3 \n",
    "    4 5 6"
   ]
  },
  {
   "cell_type": "markdown",
   "metadata": {},
   "source": [
    "## Solution\n",
    "\n",
    "Fill out your solution below:"
   ]
  },
  {
   "cell_type": "markdown",
   "metadata": {},
   "source": [
    "有點想法，由parent是none的開始印，\n",
    "\n",
    "想到了，用list存node，自已印出去後，把自已的children放進去list,\n",
    "\n",
    "可以用queue每印出去，就把自已的children  inqueue進去，\n",
    "\n",
    "只要queue裡面有東西就 一直印，用queue可以一直印，但是，\n",
    "\n",
    "什麼時侯換行。\n",
    "\n",
    "不然就是用二個list，自已pop出去前，把children放到另一個list，\n",
    "\n"
   ]
  },
  {
   "cell_type": "code",
   "execution_count": 1,
   "metadata": {
    "collapsed": true
   },
   "outputs": [],
   "source": [
    "class Node:\n",
    "    def __init__(self, val=None):\n",
    "        self.left = None\n",
    "        self.right = None\n",
    "        self.val =  val "
   ]
  },
  {
   "cell_type": "code",
   "execution_count": 21,
   "metadata": {
    "collapsed": false
   },
   "outputs": [],
   "source": [
    "def levelOrderPrint(tree):\n",
    "    list1 , list2 = [tree], []\n",
    "    #print list1\n",
    "    while list1 or list2:\n",
    "        if list1 :\n",
    "            str1 = ''\n",
    "            for i in list1:\n",
    "                str1 += ' ' + str(i.val)\n",
    "                # None 就等於是 False，所以不用打 i.left != None\n",
    "                # 打下面這樣，就可以了\n",
    "                if i.left : list2.append(i.left)\n",
    "                if i.right : list2.append(i.right)\n",
    "            print str1\n",
    "            list1 = []\n",
    "        if list2:\n",
    "            str2 = ''\n",
    "            for i in list2:\n",
    "                str2 += ' ' +  str(i.val)\n",
    "                if i.left : list1.append(i.left)\n",
    "                if i.right : list1.append(i.right)\n",
    "            print str2\n",
    "            list2 = []   \n",
    "    "
   ]
  },
  {
   "cell_type": "code",
   "execution_count": 23,
   "metadata": {
    "collapsed": true
   },
   "outputs": [],
   "source": [
    "# 二段 if 的code相似度有點高，我想簡化一點\n",
    "def levelOrderPrint2(tree):\n",
    "    list1 = [tree]\n",
    "    #print list1\n",
    "    while list1:\n",
    "        list2 = []\n",
    "        str1 = ''\n",
    "        for i in list1:\n",
    "            str1 += ' ' + str(i.val)\n",
    "            # None 就等於是 False，所以不用打 i.left != None\n",
    "            # 打下面這樣，就可以了\n",
    "            if i.left : list2.append(i.left)\n",
    "            if i.right : list2.append(i.right)\n",
    "        print str1\n",
    "        list1 = list2"
   ]
  },
  {
   "cell_type": "code",
   "execution_count": 25,
   "metadata": {
    "collapsed": false
   },
   "outputs": [
    {
     "name": "stdout",
     "output_type": "stream",
     "text": [
      " 1\n",
      " 2 3\n",
      " 4 5 6\n",
      " 7\n"
     ]
    }
   ],
   "source": [
    "root = Node(1)\n",
    "root.left = Node(2)\n",
    "root.right = Node(3)\n",
    "root.left.left = Node(4)\n",
    "root.right.left = Node(5)\n",
    "root.right.right = Node(6)\n",
    "root.left.left.left = Node(7)\n",
    "levelOrderPrint2(root)"
   ]
  }
 ],
 "metadata": {
  "kernelspec": {
   "display_name": "Python 2",
   "language": "python",
   "name": "python2"
  },
  "language_info": {
   "codemirror_mode": {
    "name": "ipython",
    "version": 2
   },
   "file_extension": ".py",
   "mimetype": "text/x-python",
   "name": "python",
   "nbconvert_exporter": "python",
   "pygments_lexer": "ipython2",
   "version": "2.7.10"
  }
 },
 "nbformat": 4,
 "nbformat_minor": 0
}
