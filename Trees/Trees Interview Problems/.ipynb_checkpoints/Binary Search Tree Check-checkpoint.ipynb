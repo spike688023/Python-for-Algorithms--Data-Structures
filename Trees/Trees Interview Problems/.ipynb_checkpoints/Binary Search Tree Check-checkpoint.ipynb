{
 "cells": [
  {
   "cell_type": "markdown",
   "metadata": {},
   "source": [
    "# Binary Search Tree Check \n",
    "\n",
    "## Problem Statement\n",
    "\n",
    "Given a binary tree, check whether it’s a binary search tree or not.\n",
    "\n",
    "** Again, no solution cell, just worry about your code making sense logically. Hint: Think about tree traversals. **\n",
    "\n",
    "## Solution\n",
    "\n",
    "Fill out your solution below:"
   ]
  },
  {
   "cell_type": "markdown",
   "metadata": {},
   "source": [
    "要驗證 是不是 BST\n",
    "\n",
    "我想到的是 用中序排序 ， inorder出來的，如果沒有排好序，\n",
    "\n",
    "那就違反BST.\n",
    "\n",
    "第一個找到實作 isValidBST, 把key跟value看成一樣。\n",
    "\n",
    "這個Node的實作， 沒有parent，\n",
    "\n",
    "我寫在外面檔名叫， validate-binary-search-tree.py\n",
    "\n",
    "用中序追綜回傳list，然後看看，是不是按照順序排，\n",
    "\n",
    "這種 方法的時間是2N ，而且我用到弟回，\n",
    "\n",
    "會多時間複雜度的h."
   ]
  },
  {
   "cell_type": "code",
   "execution_count": 1,
   "metadata": {},
   "outputs": [],
   "source": [
    "# Code goes Here\n",
    "# Reference: https://github.com/kamyu104/LeetCode/blob/master/Python/validate-binary-search-tree.py\n",
    "# Definition for a  binary tree node\n",
    "class TreeNode:\n",
    "    def __init__(self, x):\n",
    "        self.val = x\n",
    "        self.left = None\n",
    "        self.right = None\n",
    "\n",
    "class Solution1:\n",
    "    def isValidBST(self, root):\n",
    "    # 回傳一個 inorder的list\n",
    "    def inorder(self,root):\n",
    "        if "
   ]
  },
  {
   "cell_type": "code",
   "execution_count": null,
   "metadata": {
    "collapsed": true
   },
   "outputs": [],
   "source": [
    "    root = TreeNode(2)\n",
    "    root.left = TreeNode(1)\n",
    "    root.right = TreeNode(3)\n",
    "    print isValidBST(root)"
   ]
  },
  {
   "cell_type": "markdown",
   "metadata": {},
   "source": [
    "This is a classic interview problem, so feel free to just Google search \"Validate BST\" for more information on this problem!"
   ]
  },
  {
   "cell_type": "markdown",
   "metadata": {},
   "source": [
    "下面要來放網 路上的解法，\n",
    "Reference:\n",
    "https://github.com/kamyu104/LeetCode/blob/master/Python/validate-binary-search-tree.py\n",
    "\n",
    "今天突然對弟回有想法，\n",
    "\n",
    "弟回就 是不斷對問題 做切割， 直到觸底回傳，底就 是base case，\n",
    "\n",
    "樹追綜的弟回，算是比較 難的，以中序來看，\n",
    "\n",
    "左子樹回傳後 ， 要先印parent 的值， 再跑同層的 右子樹弟回。\n",
    "\n",
    "以下是我的釋意圖，又可以這樣想， 往下的弟回，算是樹的深度，\n",
    "\n",
    "而一個弟回function，裡面有幾個同名的function，就算是它的廣度，\n",
    "\n",
    "用這樣的想法，以後圖就會好畫多了。\n",
    "\n",
    "inorder(left)  val   inorder(right)\n",
    "base case return      inorder(left) val inorder(right)"
   ]
  },
  {
   "cell_type": "code",
   "execution_count": null,
   "metadata": {
    "collapsed": true
   },
   "outputs": [],
   "source": [
    "# Time:  O(n)\n",
    "# Space: O(1)\n",
    "# \n",
    "# Given a binary tree, determine if it is a valid binary search tree (BST).\n",
    "# \n",
    "# Assume a BST is defined as follows:\n",
    "# \n",
    "# The left subtree of a node contains only nodes with keys less than the node's key.\n",
    "# The right subtree of a node contains only nodes with keys greater than the node's key.\n",
    "# Both the left and right subtrees must also be binary search trees.\n",
    "#\n",
    "\n",
    "# Definition for a  binary tree node\n",
    "class TreeNode:\n",
    "    def __init__(self, x):\n",
    "        self.val = x\n",
    "        self.left = None\n",
    "        self.right = None\n",
    "\n",
    "# Morris Traversal Solution\n",
    "# 第一個非弟回的解法，我還沒看懂\n",
    "class Solution:\n",
    "    # @param root, a tree node\n",
    "    # @return a list of integers\n",
    "    def isValidBST(self, root):\n",
    "        prev, cur = None, root\n",
    "        while cur:\n",
    "            if cur.left is None:\n",
    "                if prev and prev.val >= cur.val:\n",
    "                    return False\n",
    "                prev = cur\n",
    "                cur = cur.right\n",
    "            else:\n",
    "                node = cur.left\n",
    "                while node.right and node.right != cur:\n",
    "                    node = node.right\n",
    "            \n",
    "                if node.right is None:\n",
    "                    node.right = cur\n",
    "                    cur = cur.left\n",
    "                else:\n",
    "                    if prev and prev.val >= cur.val:\n",
    "                        return False\n",
    "                    node.right = None\n",
    "                    prev = cur\n",
    "                    cur = cur.right\n",
    "                \n",
    "        return True\n",
    "\n",
    "\n",
    "# Time:  O(n)\n",
    "# Space: O(h)  ; 空間指的是在stack 中的階層，跑了幾層，也就是這顆樹的高度。\n",
    "class Solution2:\n",
    "    # @param root, a tree node\n",
    "    # @return a boolean\n",
    "    # 這個比較 容易懂， 首先 float(\"-inf\") ，它是要建立float，而參數是\n",
    "    # 指，要建立無限大的正float以及無限大的負float\n",
    "    def isValidBST(self, root):\n",
    "        return self.isValidBSTRecu(root, float(\"-inf\"), float(\"inf\"))\n",
    "    \n",
    "    # 所以這個概念很簡單， 左子樹一定比current Node的value小，\n",
    "    # 往左子樹走，就 要丟上限值給它， 往右就 要丟下限值\n",
    "    # 這裡 low high ，等於是，parent的value，\n",
    "    # 只不過，leftchild只要看最大值，rightChild只看最小值。\n",
    "    def isValidBSTRecu(self, root, low, high):\n",
    "        if root is None:\n",
    "            return True\n",
    "        \n",
    "        return low < root.val and root.val < high \\\n",
    "            and self.isValidBSTRecu(root.left, low, root.val) \\\n",
    "            and self.isValidBSTRecu(root.right, root.val, high)\n",
    "\n",
    "        \n",
    "if __name__ == \"__main__\":\n",
    "    root = TreeNode(2)\n",
    "    root.left = TreeNode(1)\n",
    "    root.right = TreeNode(3)\n",
    "    print Solution().isValidBST(root)"
   ]
  }
 ],
 "metadata": {
  "kernelspec": {
   "display_name": "Python 3",
   "language": "python",
   "name": "python3"
  },
  "language_info": {
   "codemirror_mode": {
    "name": "ipython",
    "version": 3
   },
   "file_extension": ".py",
   "mimetype": "text/x-python",
   "name": "python",
   "nbconvert_exporter": "python",
   "pygments_lexer": "ipython3",
   "version": "3.6.3"
  }
 },
 "nbformat": 4,
 "nbformat_minor": 1
}
