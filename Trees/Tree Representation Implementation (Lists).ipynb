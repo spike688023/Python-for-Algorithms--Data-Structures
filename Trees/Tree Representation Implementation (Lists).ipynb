{
 "cells": [
  {
   "cell_type": "markdown",
   "metadata": {},
   "source": [
    "# Tree Representation Implementation (Lists)\n",
    "\n",
    "Below is a representation of a Tree using a list of lists. Refer to the video lecture for an explanation and a live coding demonstration!"
   ]
  },
  {
   "cell_type": "markdown",
   "metadata": {},
   "source": [
    "a list of lists 是指，一個list裡面，有多個lists的存在\n",
    "\n",
    "|  pop(...)\n",
    " |      L.pop([index]) -> item -- remove and return item at index (default last).\n",
    " |      Raises IndexError if list is empty or index is out of range.\n",
    " \n",
    " 這個頁面的重點，要弄清楚  insertLeft , insertRight."
   ]
  },
  {
   "cell_type": "code",
   "execution_count": null,
   "metadata": {
    "collapsed": true
   },
   "outputs": [],
   "source": [
    "def BinaryTree(r):\n",
    "    return [r, [], []]\n",
    "\n",
    "def insertLeft(root,newBranch):\n",
    "    # 喔， 終於看懂了， root.pop(1) 是要拿左子樹的list 出來，\n",
    "    # len(t) 是要判斷  這顆樹是否為空\n",
    "    # 為空的話 ，就塞在 root 左子樹的位置， 而樹的完整結構也要給清楚。\n",
    "    t = root.pop(1)\n",
    "    if len(t) > 1:\n",
    "        root.insert(1,[newBranch,t,[]])\n",
    "    else:\n",
    "        root.insert(1,[newBranch, [], []])\n",
    "    return root\n",
    "\n",
    "def insertRight(root,newBranch):\n",
    "    t = root.pop(2)\n",
    "    if len(t) > 1:\n",
    "        root.insert(2,[newBranch,[],t])\n",
    "    else:\n",
    "        root.insert(2,[newBranch,[],[]])\n",
    "    return root\n",
    "\n",
    "def getRootVal(root):\n",
    "    return root[0]\n",
    "\n",
    "def setRootVal(root,newVal):\n",
    "    root[0] = newVal\n",
    "\n",
    "def getLeftChild(root):\n",
    "    return root[1]\n",
    "\n",
    "def getRightChild(root):\n",
    "    return root[2]"
   ]
  }
 ],
 "metadata": {
  "kernelspec": {
   "display_name": "Python 3",
   "language": "python",
   "name": "python3"
  },
  "language_info": {
   "codemirror_mode": {
    "name": "ipython",
    "version": 3
   },
   "file_extension": ".py",
   "mimetype": "text/x-python",
   "name": "python",
   "nbconvert_exporter": "python",
   "pygments_lexer": "ipython3",
   "version": "3.6.3"
  }
 },
 "nbformat": 4,
 "nbformat_minor": 1
}
