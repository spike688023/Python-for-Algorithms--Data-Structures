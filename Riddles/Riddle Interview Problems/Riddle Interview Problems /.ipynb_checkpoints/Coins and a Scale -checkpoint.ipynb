{
 "cells": [
  {
   "cell_type": "markdown",
   "metadata": {},
   "source": [
    "# Coins and a Scale \n",
    "## Problem Statement\n",
    "\n",
    "You have eight coins and a two-pan scale. All the coins weigh the same, **except for one** which is heavier than all the others. The coins are otherwise indistinguishable. You may make no assumptions about how much heavier the heavy coin is. What is the minimum number of weighings needed to be certain of identifying the heavy coin?"
   ]
  },
  {
   "cell_type": "markdown",
   "metadata": {},
   "source": [
    "這個我之前我聴過，\n",
    "\n",
    "我記得沒錯的話，是分成三等份，\n",
    "\n",
    "2 2 3 ，\n",
    "\n",
    "前二份先比，相比，如果這裡比出來是不同的話，\n",
    "\n",
    "把較重的那個，分開來比，就能比出來了。\n",
    "\n",
    "第二個情況就 是前二分重量相等，\n",
    "\n",
    "就把最後三個的，隨意拿二個出來比， 相等的話，最重就第三個，\n",
    "\n",
    "不相等的話 ，你就找到了，這次一定對，\n",
    "\n",
    "\n",
    "只要二次，就能找到最重的硬幣。"
   ]
  }
 ],
 "metadata": {
  "kernelspec": {
   "display_name": "Python 2",
   "language": "python",
   "name": "python2"
  },
  "language_info": {
   "codemirror_mode": {
    "name": "ipython",
    "version": 2
   },
   "file_extension": ".py",
   "mimetype": "text/x-python",
   "name": "python",
   "nbconvert_exporter": "python",
   "pygments_lexer": "ipython2",
   "version": "2.7.10"
  }
 },
 "nbformat": 4,
 "nbformat_minor": 0
}
