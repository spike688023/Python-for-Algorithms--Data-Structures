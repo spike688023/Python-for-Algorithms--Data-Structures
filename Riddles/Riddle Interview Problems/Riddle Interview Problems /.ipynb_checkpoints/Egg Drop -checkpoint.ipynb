{
 "cells": [
  {
   "cell_type": "markdown",
   "metadata": {},
   "source": [
    "# Egg Drop \n",
    "This is probably the most common brain teaser riddle out of the group, so really try to think algorithmically about this problem before looking at the solution!\n",
    "## Problem Statement\n",
    "\n",
    "A tower has 100 floors. You've been given two eggs. The eggs are strong enough that they can be dropped from a particular floor in the tower without breaking. You've been tasked to find the highest floor an egg can be dropped without breaking, in as few drops as possible. If an egg is dropped from above its target floor it will break. If it is dropped from that floor or below, it will be intact and you can test drop the egg again on another floor.\n",
    "\n",
    "Show algorithmically how you would go about doing this in as few drops as possible. (Your answer should be a number of the fewest drops needed for testing 2 eggs on 100 floors)"
   ]
  },
  {
   "cell_type": "markdown",
   "metadata": {},
   "source": [
    "目前想到的方法，\n",
    "\n",
    "間隔的方式，1 3 5 這樣，1不破，3破，那第二顆可以測二樓，這樣一層層上去。\n",
    "\n",
    "1 4 6， 1不破，4破 ，最後 一顆用來測2 或 3 都能知道答案。\n",
    "\n",
    "1 5 9， 1不破， 5破後，只能從2開始往上測。\n",
    "\n",
    "這裡拿公因數13-1 才看上面二種方式，誰會先測到：\n",
    "\n",
    "1 4 7 10 13 : 6 次\n",
    "1 5 9 13: 13破，由10 11 12 才破 ， 7次。\n",
    "\n",
    "看來只能間隔 3 是比較 安全的。"
   ]
  }
 ],
 "metadata": {
  "kernelspec": {
   "display_name": "Python 2",
   "language": "python",
   "name": "python2"
  },
  "language_info": {
   "codemirror_mode": {
    "name": "ipython",
    "version": 2
   },
   "file_extension": ".py",
   "mimetype": "text/x-python",
   "name": "python",
   "nbconvert_exporter": "python",
   "pygments_lexer": "ipython2",
   "version": "2.7.10"
  }
 },
 "nbformat": 4,
 "nbformat_minor": 0
}
