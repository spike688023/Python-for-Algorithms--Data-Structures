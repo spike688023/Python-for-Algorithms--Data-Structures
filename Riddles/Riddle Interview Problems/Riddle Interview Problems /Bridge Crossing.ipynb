{
 "cells": [
  {
   "cell_type": "markdown",
   "metadata": {},
   "source": [
    "# Bridge Crossing"
   ]
  },
  {
   "cell_type": "markdown",
   "metadata": {},
   "source": [
    "## Problem Statement\n",
    "\n",
    "A group of four travelers comes to a bridge at night. The bridge can hold the weight of at most only two of the travelers at a time, and it can- not be crossed without using a flashlight. \n",
    "\n",
    "The travelers have one flashlight among them. Each traveler walks at a different speed: The first can cross the bridge in 1 minute, the second in 2 minutes, the third in 5 minutes, and the fourth takes 10 minutes to cross the bridge. If two travelers cross together, they walk at the speed of the slower traveler.\n",
    "\n",
    "What is the least amount of time in which all the travelers can cross from one side of the bridge to the other?\n",
    "\n"
   ]
  },
  {
   "cell_type": "markdown",
   "metadata": {},
   "source": [
    "這有需要寫程式嗎？\n",
    "\n",
    "感覺想一想，就會有答案了\n",
    "\n",
    "二二配對會依最慢的那個時間算，這裡對英文的among them，ok，是這群人只有一個手電統，\n",
    "\n",
    "先從二個人開始想，\n",
    "\n",
    "就 2 min，二個人一起過去。\n",
    "\n",
    "三個人的話：\n",
    "\n",
    "前二個人先過去，然後1 min的人回來，再跟5 min的人一起走，＝＞ 2 + 1 + 5 = 8\n",
    "\n",
    "四個人囉：\n",
    "\n",
    "2 1 5 1 10 = 19 總要一個人拿手電統回來，所以這裡是19\n",
    "\n",
    "這是錯的哎，忘了一個環節了，如果有動作快的人在對岸的時侯，\n",
    "\n",
    "某一趟，就能送二個速度慢的人一起過去了。\n",
    "\n",
    "好拉，因為這是看完解答後才想到的，所以這裡不做更動。"
   ]
  }
 ],
 "metadata": {
  "kernelspec": {
   "display_name": "Python 2",
   "language": "python",
   "name": "python2"
  },
  "language_info": {
   "codemirror_mode": {
    "name": "ipython",
    "version": 2
   },
   "file_extension": ".py",
   "mimetype": "text/x-python",
   "name": "python",
   "nbconvert_exporter": "python",
   "pygments_lexer": "ipython2",
   "version": "2.7.10"
  }
 },
 "nbformat": 4,
 "nbformat_minor": 0
}
