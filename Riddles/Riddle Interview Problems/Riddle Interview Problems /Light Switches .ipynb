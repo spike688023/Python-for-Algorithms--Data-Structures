{
 "cells": [
  {
   "cell_type": "markdown",
   "metadata": {},
   "source": [
    "# Light Switches\n",
    "## Problem Statement\n",
    "\n",
    "You are in a hallway next to three light switches, all of which are off. Each switch activates a different *incandescent* light bulb in the room at the end of the hall. You cannot see the lights from where the switches are. Your task is to determine which light corresponds to each switch. However, you may go into the room with the lights only once.\n",
    "\n",
    "**Note: This is a bit of \"trick\" question, so don't spend too much time on it. Although it is more on the \"fun\" side of brain teaser type questions.**\n"
   ]
  },
  {
   "cell_type": "markdown",
   "metadata": {},
   "source": [
    "這個很好想，\n",
    "\n",
    "首先有三個燈，一個就一直打開，\n",
    "\n",
    "那麼，剩二個，\n",
    "\n",
    "打開其中一個，過個五分鐘，把那一個關掉，再進去，\n",
    "\n",
    "用手摸看看，那一個是熱的，這樣就可以抓出，\n",
    "\n",
    "燈泡的對應了。"
   ]
  }
 ],
 "metadata": {
  "kernelspec": {
   "display_name": "Python 2",
   "language": "python",
   "name": "python2"
  },
  "language_info": {
   "codemirror_mode": {
    "name": "ipython",
    "version": 2
   },
   "file_extension": ".py",
   "mimetype": "text/x-python",
   "name": "python",
   "nbconvert_exporter": "python",
   "pygments_lexer": "ipython2",
   "version": "2.7.10"
  }
 },
 "nbformat": 4,
 "nbformat_minor": 0
}
