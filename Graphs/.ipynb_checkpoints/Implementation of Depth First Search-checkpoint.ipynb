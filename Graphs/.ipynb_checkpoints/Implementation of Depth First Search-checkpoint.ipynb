{
 "cells": [
  {
   "cell_type": "markdown",
   "metadata": {},
   "source": [
    "# Implementation of Depth-First Search\n",
    "This algorithm we will be discussing is Depth-First search which as the name hints at, explores possible vertices (from a supplied root) down each branch before backtracking. This property allows the algorithm to be implemented succinctly in both iterative and recursive forms. Below is a listing of the actions performed upon each visit to a node.\n",
    "\n",
    "* Mark the current vertex as being visited.\n",
    "* Explore each adjacent vertex that is not included in the visited set.\n",
    "\n",
    "We will assume a simplified version of a graph in the following form:"
   ]
  },
  {
   "cell_type": "code",
   "execution_count": 7,
   "metadata": {
    "collapsed": true
   },
   "outputs": [],
   "source": [
    "graph = {'A': set(['B', 'C']),\n",
    "         'B': set(['A', 'D', 'E']),\n",
    "         'C': set(['A', 'F']),\n",
    "         'D': set(['B']),\n",
    "         'E': set(['B', 'F']),\n",
    "         'F': set(['C', 'E'])}"
   ]
  },
  {
   "cell_type": "markdown",
   "metadata": {},
   "source": [
    "## Connected Component\n",
    "\n",
    "The implementation below uses the stack data-structure to build-up and return a set of vertices that are accessible within the subjects connected component. Using Python’s overloading of the subtraction operator to remove items from a set, we are able to add only the unvisited adjacent vertices."
   ]
  },
  {
   "cell_type": "code",
   "execution_count": 15,
   "metadata": {
    "collapsed": false
   },
   "outputs": [
    {
     "data": {
      "text/plain": [
       "{'A', 'B', 'C', 'D', 'E', 'F'}"
      ]
     },
     "execution_count": 15,
     "metadata": {},
     "output_type": "execute_result"
    }
   ],
   "source": [
    "def dfs(graph, start):\n",
    "    visited, stack = set(), [start]\n",
    "    while stack:\n",
    "        vertex = stack.pop()\n",
    "        if vertex not in visited:\n",
    "            visited.add(vertex)\n",
    "            stack.extend(graph[vertex] - visited)\n",
    "    return visited\n",
    "\n",
    "dfs(graph, 'A') "
   ]
  },
  {
   "cell_type": "markdown",
   "metadata": {},
   "source": [
    "The second implementation provides the same functionality as the first, however, this time we are using the more succinct recursive form. Due to a common Python gotcha with default parameter values being created only once, we are required to create a new visited set on each user invocation. Another Python language detail is that function variables are passed by reference, resulting in the visited mutable set not having to reassigned upon each recursive call."
   ]
  },
  {
   "cell_type": "markdown",
   "metadata": {},
   "source": [
    "這裡是用遞回的方式，來實作 dfs,\n",
    "\n",
    "第三個參數， 有二個功能，\n",
    "\n",
    "1是 用來建立第一次的set，\n",
    "\n",
    "2是 排除已經造訪過的vertex.\n",
    "\n",
    "再來看一個點，什麼時侯會回傳，\n",
    "\n",
    "當遞回切割時， 有個例子不會跑進for loop的時侯，\n",
    "\n",
    "就會回傳疊加至今的visited, 也就是說，\n",
    "\n",
    "從最底層回傳上去的東西，都是一樣的。"
   ]
  },
  {
   "cell_type": "code",
   "execution_count": 12,
   "metadata": {
    "collapsed": false
   },
   "outputs": [
    {
     "data": {
      "text/plain": [
       "{'A', 'B', 'C', 'D', 'E', 'F'}"
      ]
     },
     "execution_count": 12,
     "metadata": {},
     "output_type": "execute_result"
    }
   ],
   "source": [
    "def dfs(graph, start, visited=None):\n",
    "    if visited is None:\n",
    "        visited = set()\n",
    "    visited.add(start)\n",
    "    for nxt in graph[start] - visited:\n",
    "        dfs(graph, nxt, visited)\n",
    "    return visited\n",
    "\n",
    "dfs(graph, 'A') "
   ]
  },
  {
   "cell_type": "markdown",
   "metadata": {},
   "source": [
    "## Paths\n",
    "We are able to tweak both of the previous implementations to return all possible paths between a start and goal vertex. The implementation below uses the stack data-structure again to iteratively solve the problem, yielding each possible path when we locate the goal. Using a generator allows the user to only compute the desired amount of alternative paths."
   ]
  },
  {
   "cell_type": "markdown",
   "metadata": {},
   "source": [
    "終於理解，為什麼這裡的stack是用  tuple來存，\n",
    "\n",
    "第二個用list存是路徑，第一個的話， \n",
    "\n",
    "先來想看看，如果不存現在站在那個vertex，\n",
    "\n",
    "那如何挑，接下來有什麼路走。\n",
    "\n",
    "之前有寫過了，DFS BFS只是對圖的探查方式不同而已，\n",
    "\n",
    "所以輸入的參數都能給 start , goal，二個參數，\n",
    "\n",
    "再來說一點，\n",
    "\n",
    "DFS BFS，  BFS有點像廣播，一層層的推進，\n",
    "\n",
    "DFS則是盡可能的走遠。"
   ]
  },
  {
   "cell_type": "code",
   "execution_count": 11,
   "metadata": {
    "collapsed": false
   },
   "outputs": [
    {
     "data": {
      "text/plain": [
       "[['A', 'B', 'E', 'F'], ['A', 'C', 'F']]"
      ]
     },
     "execution_count": 11,
     "metadata": {},
     "output_type": "execute_result"
    }
   ],
   "source": [
    "def dfs_paths(graph, start, goal):\n",
    "    stack = [(start, [start])]\n",
    "    while stack:\n",
    "        (vertex, path) = stack.pop()\n",
    "        for nxt in graph[vertex] - set(path):\n",
    "            if nxt == goal:\n",
    "                yield path + [nxt]\n",
    "            else:\n",
    "                stack.append((nxt, path + [nxt]))\n",
    "\n",
    "list(dfs_paths(graph, 'A', 'F'))"
   ]
  },
  {
   "cell_type": "markdown",
   "metadata": {},
   "source": [
    "http://nbviewer.jupyter.org/github/jmportilla/Python-for-Algorithms--Data-Structures--and-Interviews/blob/master/Graphs/Implementation%20of%20Breadth%20First%20Search.ipynb\n",
    " \n",
    "喔，\n",
    " \n",
    "這裡的yield，是放在function內，　也就是你每呼叫一次，\n",
    " \n",
    "它才會回傳一個找到的路徑，目前猜測是這樣，\n",
    " \n",
    "回去可以試看看，　案不用試了。　\n",
    " \n",
    "Toggle line numbers\n",
    "   1 # list comprehension\n",
    "   2 doubles = [2 * n for n in range(50)]\n",
    "   3 \n",
    "   4 # same as the list comprehension above\n",
    "   5 doubles = list(2 * n for n in range(50))\n",
    " \n",
    "作者給的Generator的參考中，裡面有個例子，\n",
    " \n",
    "在list中，也能放generator，也就是說，它會不斷的去執行裡面的Func,\n",
    " \n",
    "每執行一次　yield那行就會回傳一次，　path，裡面的for loop沒有東西跑。\n",
    " \n",
    "ＤＦＳ：\n",
    " \n",
    "好酷喔，　\n",
    " \n",
    "原來，ＤＦＳ跟ＢＦＳ的差別在於，儲存ＶＥＲＴＥＸ的結構不一樣，\n",
    " \n",
    "ＢＦＳ要用 queue去處理，　DFS要用stack。\n",
    " \n",
    "突然想到，結構是用stack存的話，代表就能轉成Recursive的方式去處理。\n",
    " \n",
    "遞迴方式的ＤＦＳ：\n",
    " \n",
    "雖然用for loop做切割，但其實會跑的只有，第一條的ＢＲＡＮＣＨ，\n",
    " \n",
    "不斷的切割vertex set，把start加入 visited內，\n",
    " \n",
    "這個遞迴蠻酷的，它不是在回傳的時侯疊加，\n",
    " \n",
    "是往下切割的時侯疊加，雖然第一個回傳的vertexlist，\n",
    " \n",
    "就是我們要的答案了，但還是要一層層的回傳，因為\n",
    " \n",
    "Recursive，有func疊在stack內。"
   ]
  },
  {
   "cell_type": "markdown",
   "metadata": {},
   "source": [
    "### Resources\n",
    "* [Depth-and Breadth-First Search](http://jeremykun.com/2013/01/22/depth-and-breadth-first-search/)\n",
    "* [Connected component](https://en.wikipedia.org/wiki/Connected_component_(graph_theory))\n",
    "* [Adjacency matrix](https://en.wikipedia.org/wiki/Adjacency_matrix)\n",
    "* [Adjacency list](https://en.wikipedia.org/wiki/Adjacency_list)\n",
    "* [Python Gotcha: Default arguments and mutable data structures](https://developmentality.wordpress.com/2010/08/23/python-gotcha-default-arguments/)\n",
    "* [Generators](https://wiki.python.org/moin/Generators)"
   ]
  }
 ],
 "metadata": {
  "kernelspec": {
   "display_name": "Python 2",
   "language": "python",
   "name": "python2"
  },
  "language_info": {
   "codemirror_mode": {
    "name": "ipython",
    "version": 2
   },
   "file_extension": ".py",
   "mimetype": "text/x-python",
   "name": "python",
   "nbconvert_exporter": "python",
   "pygments_lexer": "ipython2",
   "version": "2.7.10"
  }
 },
 "nbformat": 4,
 "nbformat_minor": 0
}
