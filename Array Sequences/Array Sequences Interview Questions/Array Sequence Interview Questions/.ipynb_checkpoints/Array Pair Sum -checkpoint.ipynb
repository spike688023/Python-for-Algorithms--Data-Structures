{
 "cells": [
  {
   "cell_type": "markdown",
   "metadata": {},
   "source": [
    "# Array Pair Sum\n",
    "\n",
    "## Problem\n",
    "\n",
    "Given an integer array, output all the ** *unique* ** pairs that sum up to a specific value **k**.\n",
    "\n",
    "So the input:\n",
    "    \n",
    "    pair_sum([1,3,2,2],4)\n",
    "\n",
    "would return **2** pairs:\n",
    "\n",
    "     (1,3)\n",
    "     (2,2)\n",
    "\n",
    "**NOTE: FOR TESTING PURPOSES CHANGE YOUR FUNCTION SO IT OUTPUTS THE NUMBER OF PAIRS**\n",
    "\n",
    "## Solution\n",
    "\n",
    "Fill out your solution below:"
   ]
  },
  {
   "cell_type": "markdown",
   "metadata": {},
   "source": [
    "目前的想法是，用一個相等大小的list 去存，True False，\n",
    "能找到另一半就 把二個給 True ， 而且count++ ，\n",
    "\n",
    "找不到另一半的話， 一樣要給 True , 但count 不能加加。\n",
    "\n",
    "演算法的時間，大概是落在  nlogn.\n",
    "\n",
    "我怎麼覺得  find 這個功能可以用 dict 去實作，value 就 放index的位置 。\n",
    "\n",
    "又想到另一個實作的方法了，用dict ，去記録每個key的數目，每配到一次，\n",
    "\n",
    "就減1。\n",
    "\n",
    "用dict.keys() 去判斷有沒有另一半。\n",
    "\n",
    "我也要試 著去評估，我演算法的時間複雜度，\n",
    "\n",
    "我光是 建dict1 就 Quadratic time.\n",
    "\n",
    "Big-O\tName\n",
    "1\tConstant\n",
    "log(n)\tLogarithmic\n",
    "n\tLinear\n",
    "nlog(n)\tLog Linear\n",
    "n^2\tQuadratic\n",
    "n^3\tCubic\n",
    "2^n\tExponential\n",
    "\n",
    "在 dict1.keys() 裡面找東西，要當binary search 當 log time or \n",
    "\n",
    "linear time search."
   ]
  },
  {
   "cell_type": "code",
   "execution_count": 11,
   "metadata": {
    "collapsed": false
   },
   "outputs": [],
   "source": [
    "def pair_sum(arr,k):\n",
    "    count = 0\n",
    "    dict1 = {i:arr.count(i) for i in set(arr)}\n",
    "    print dict1\n",
    "    for i in arr:\n",
    "        # find the other\n",
    "        if k-i in dict1.keys() and dict1[i] > 0 and dict1[k-i] > 0:\n",
    "            count += 1\n",
    "            dict1[i] -= 1\n",
    "            dict1[k-i] -= 1\n",
    "        else:\n",
    "            dict1[i] -= 1\n",
    "    return count\n",
    "            "
   ]
  },
  {
   "cell_type": "code",
   "execution_count": 12,
   "metadata": {
    "collapsed": false
   },
   "outputs": [
    {
     "name": "stdout",
     "output_type": "stream",
     "text": [
      "{1: 1, 2: 2, 3: 1}\n"
     ]
    },
    {
     "data": {
      "text/plain": [
       "2"
      ]
     },
     "execution_count": 12,
     "metadata": {},
     "output_type": "execute_result"
    }
   ],
   "source": [
    "pair_sum([1,3,2,2],4)"
   ]
  },
  {
   "cell_type": "markdown",
   "metadata": {},
   "source": [
    "# Test Your Solution"
   ]
  },
  {
   "cell_type": "code",
   "execution_count": 13,
   "metadata": {
    "collapsed": false
   },
   "outputs": [
    {
     "name": "stdout",
     "output_type": "stream",
     "text": [
      "{1: 1, 2: 1, 3: 1, 4: 1, 5: 2, 6: 1, 7: 1, 8: 1, 9: 1, 11: 1, 13: 2, 14: 1, -1: 1}\n",
      "{1: 2, 2: 1, 3: 1}\n",
      "{1: 1, 2: 2, 3: 1}\n",
      "ALL TEST CASES PASSED\n"
     ]
    }
   ],
   "source": [
    "\"\"\"\n",
    "RUN THIS CELL TO TEST YOUR SOLUTION\n",
    "\"\"\"\n",
    "from nose.tools import assert_equal\n",
    "\n",
    "class TestPair(object):\n",
    "    \n",
    "    def test(self,sol):\n",
    "        assert_equal(sol([1,9,2,8,3,7,4,6,5,5,13,14,11,13,-1],10),6)\n",
    "        assert_equal(sol([1,2,3,1],3),1)\n",
    "        assert_equal(sol([1,3,2,2],4),2)\n",
    "        print 'ALL TEST CASES PASSED'\n",
    "        \n",
    "#Run tests\n",
    "t = TestPair()\n",
    "t.test(pair_sum)\n",
    "    "
   ]
  },
  {
   "cell_type": "markdown",
   "metadata": {},
   "source": [
    "## Good Job!"
   ]
  }
 ],
 "metadata": {
  "kernelspec": {
   "display_name": "Python 2",
   "language": "python",
   "name": "python2"
  },
  "language_info": {
   "codemirror_mode": {
    "name": "ipython",
    "version": 2
   },
   "file_extension": ".py",
   "mimetype": "text/x-python",
   "name": "python",
   "nbconvert_exporter": "python",
   "pygments_lexer": "ipython2",
   "version": "2.7.10"
  }
 },
 "nbformat": 4,
 "nbformat_minor": 0
}
