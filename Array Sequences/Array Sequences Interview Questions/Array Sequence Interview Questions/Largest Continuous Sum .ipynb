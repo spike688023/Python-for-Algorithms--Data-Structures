{
 "cells": [
  {
   "cell_type": "markdown",
   "metadata": {},
   "source": [
    "# Largest Continuous Sum\n",
    "\n",
    "## Problem\n",
    "Given an array of integers (positive and negative) find the largest continuous sum. \n",
    "\n",
    "## Solution\n",
    "\n",
    "Fill out your solution below:"
   ]
  },
  {
   "cell_type": "markdown",
   "metadata": {},
   "source": [
    "這題 的想法不是很明確， \n",
    "\n",
    "先把Local_max 給抓出來， 以負數為分隔點，把各個區塊的正數先抓出來，\n",
    "\n",
    "用個字典紀録 local_max 的最大值，以值區間，區間怎麼抓還不知道，\n",
    "\n",
    "但Local_max 只要遇到正數就加總，遇到負數就歸零，再跟之前的Local_max比，看要不要\n",
    "\n",
    "蓋過去。\n",
    "\n",
    "感覺是要你抓出Global max 的值，跟範圍，我先抓Local好了。\n",
    "negative_point 用來記上次，負值的index.\n",
    "\n",
    "先抓出個local_max, 用做比對的基準，只要超過這個值，就是最新的global_max_sum.\n",
    "\n",
    "哈，看來是用不到 local_max，直接比較好了。"
   ]
  },
  {
   "cell_type": "code",
   "execution_count": null,
   "metadata": {
    "collapsed": true
   },
   "outputs": [],
   "source": [
    "def large_cont_sum_20180523(arr): \n",
    "    maximum = 0\n",
    "    summ = 0\n",
    "    \n",
    "    for i in arr:\n",
    "        summ += i\n",
    "        if i > summ:\n",
    "            summ = i\n",
    "        maximum = max( maximum , summ)\n",
    "        \n",
    "    return maximum"
   ]
  },
  {
   "cell_type": "code",
   "execution_count": null,
   "metadata": {
    "collapsed": true
   },
   "outputs": [],
   "source": [
    "def large_cont_sum_20180523_version2(arr): \n",
    "    max_sum = 0\n",
    "    curr_sum = 0\n",
    "    start = 0\n",
    "    end = 0\n",
    "    for i in range(len(arr)):\n",
    "        curr_sum += arr[i]\n",
    "        if arr[i] > curr_sum:\n",
    "            curr_sum = arr[i]\n",
    "            start = i\n",
    "        \n",
    "        if curr_sum > max_sum:\n",
    "            end = i\n",
    "        max_sum = max( max_sum , curr_sum)\n",
    "    print(\"start = {0}\".format(start))\n",
    "    print(\"end = {0}\".format(end))\n",
    "    return max_sum"
   ]
  },
  {
   "cell_type": "code",
   "execution_count": 40,
   "metadata": {},
   "outputs": [],
   "source": [
    "def large_cont_sum(arr): \n",
    "    \n",
    "    start_point = 0\n",
    "    end_point = 0\n",
    "    negative_point = -1\n",
    "    local_max_sum = 0\n",
    "    current_sum = 0\n",
    "    global_max_sum = 0\n",
    "    \n",
    "    \n",
    "    if len(arr) == 0: return 0\n",
    "    \n",
    "    for i in range( len(arr) ):\n",
    "        if arr[i] > 0:\n",
    "            current_sum += arr[i]\n",
    "        else:\n",
    "            if current_sum > 0 and current_sum > local_max_sum: \n",
    "                local_max_sum = current_sum\n",
    "                current_sum = 0\n",
    "        \n",
    "    #return local_max_sum  \n",
    "    print \"local_max_sum =\" + str(local_max_sum)\n",
    "    \n",
    "    current_sum = 0\n",
    "    for i in range( len(arr) ):\n",
    "        if arr[i] > 0:\n",
    "            current_sum += arr[i]\n",
    "        else:\n",
    "            current_sum += arr[i]\n",
    "            if current_sum < 0:\n",
    "                current_sum = 0\n",
    "                negative_point = i\n",
    "                \n",
    "        if current_sum > global_max_sum:\n",
    "            global_max_sum = current_sum\n",
    "            end_point = i\n",
    "            if negative_point >= 0:\n",
    "                start_point = negative_point + 1\n",
    "    \n",
    "    print \"start_point = \" + str(start_point)\n",
    "    print \"end_point = \" + str(end_point)\n",
    "    return global_max_sum  \n",
    "\n",
    "                \n",
    "    "
   ]
  },
  {
   "cell_type": "code",
   "execution_count": 38,
   "metadata": {},
   "outputs": [
    {
     "name": "stdout",
     "output_type": "stream",
     "text": [
      "local_max_sum =27\n",
      "start_point = 0\n",
      "end_point = 6\n"
     ]
    },
    {
     "data": {
      "text/plain": [
       "29"
      ]
     },
     "execution_count": 38,
     "metadata": {},
     "output_type": "execute_result"
    }
   ],
   "source": [
    "large_cont_sum([1,2,-1,3,4,10,10,-10,-1])"
   ]
  },
  {
   "cell_type": "markdown",
   "metadata": {},
   "source": [
    "____\n",
    "Many times in an interview setting the question also requires you to report back the start and end points of the sum. Keep this in mind and see if you can solve that problem, we'll see it in the mock interview section of the course!"
   ]
  },
  {
   "cell_type": "markdown",
   "metadata": {},
   "source": [
    "# Test Your Solution"
   ]
  },
  {
   "cell_type": "code",
   "execution_count": 41,
   "metadata": {},
   "outputs": [
    {
     "name": "stdout",
     "output_type": "stream",
     "text": [
      "local_max_sum =7\n",
      "start_point = 0\n",
      "end_point = 4\n",
      "local_max_sum =27\n",
      "start_point = 0\n",
      "end_point = 6\n",
      "local_max_sum =0\n",
      "start_point = 1\n",
      "end_point = 1\n",
      "ALL TEST CASES PASSED\n"
     ]
    }
   ],
   "source": [
    "from nose.tools import assert_equal\n",
    "\n",
    "class LargeContTest(object):\n",
    "    def test(self,sol):\n",
    "        assert_equal(sol([1,2,-1,3,4,-1]),9)\n",
    "        assert_equal(sol([1,2,-1,3,4,10,10,-10,-1]),29)\n",
    "        assert_equal(sol([-1,1]),1)\n",
    "        print 'ALL TEST CASES PASSED'\n",
    "        \n",
    "#Run Test\n",
    "t = LargeContTest()\n",
    "t.test(large_cont_sum)"
   ]
  },
  {
   "cell_type": "markdown",
   "metadata": {},
   "source": [
    "## Good Job!"
   ]
  }
 ],
 "metadata": {
  "kernelspec": {
   "display_name": "Python 3",
   "language": "python",
   "name": "python3"
  },
  "language_info": {
   "codemirror_mode": {
    "name": "ipython",
    "version": 3
   },
   "file_extension": ".py",
   "mimetype": "text/x-python",
   "name": "python",
   "nbconvert_exporter": "python",
   "pygments_lexer": "ipython3",
   "version": "3.6.3"
  }
 },
 "nbformat": 4,
 "nbformat_minor": 1
}
