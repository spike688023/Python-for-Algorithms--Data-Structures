{
 "cells": [
  {
   "cell_type": "markdown",
   "metadata": {},
   "source": [
    "# Memoization\n",
    "\n",
    "In this lecture we will discuss memoization and dynamic programming. For your homework assignment, read the [Wikipedia article on Memoization](https://en.wikipedia.org/wiki/Memoization), before continuing on with this lecture!\n",
    "\n",
    "____\n",
    "\n",
    "Memoization effectively refers to remembering (\"memoization\" -> \"memorandum\" -> to be remembered) results of method calls based on the method inputs and then returning the remembered result rather than computing the result again. You can think of it as a cache for method results. We'll use this in some of the interview problems as improved versions of a purely recursive solution.\n",
    "\n",
    "A simple example for computing factorials using memoization in Python would be something like this:"
   ]
  },
  {
   "cell_type": "markdown",
   "metadata": {},
   "source": [
    "要記得  factorial_memo 要放外層，\n",
    "\n",
    "如果寫C 要放在global的區域，才能看到。\n",
    "\n",
    "我想到一個解釋， C 跟python 這二種 編譯跟直譯的最大差別了， \n",
    "\n",
    "假設開頭， 都定義了一個function 叫test ， 定義完，接下來就呼叫它，\n",
    "\n",
    "這樣在 python是可以的，但是在 C 是不行， \n",
    "\n",
    "在python 用 __name__ == \"__main__\"  是要模仿 C 的樣子而已， \n",
    "\n",
    "但它還是直譯 ， 所以在這行之前的東西，它都會跑。\n",
    "\n",
    "\n",
    "再來想一個，在main function 中，定義的變數，無法給外層的function使用，\n",
    "\n",
    "除非傳給它，再不然就是， 變數定義在 main function 外面，變成global ，\n",
    "\n",
    "or 把要call 的function 定義 ，放在main function 內， 這樣，\n",
    "\n",
    "在main function 定義的變數， 它就看的到了。"
   ]
  },
  {
   "cell_type": "code",
   "execution_count": 1,
   "metadata": {
    "collapsed": true
   },
   "outputs": [],
   "source": [
    "# Create cache for known results\n",
    "factorial_memo = {}\n",
    "\n",
    "def factorial(k):\n",
    "    \n",
    "    if k < 2: \n",
    "        return 1\n",
    "    \n",
    "    if not k in factorial_memo:\n",
    "        factorial_memo[k] = k * factorial(k-1)\n",
    "        \n",
    "    return factorial_memo[k]"
   ]
  },
  {
   "cell_type": "code",
   "execution_count": 2,
   "metadata": {},
   "outputs": [
    {
     "data": {
      "text/plain": [
       "24"
      ]
     },
     "execution_count": 2,
     "metadata": {},
     "output_type": "execute_result"
    }
   ],
   "source": [
    "factorial(4)"
   ]
  },
  {
   "cell_type": "markdown",
   "metadata": {},
   "source": [
    "Note how we are now using a dictionary to store previous results of the factorial function! We are now able to increase the efficiency of this function by remembering old results!\n",
    "\n",
    "Keep this in mind when working on the Coin Change Problem and the Fibonacci Sequence Problem.\n",
    "\n",
    "___\n",
    "\n",
    "We can also encapsulate the memoization process into a class:"
   ]
  },
  {
   "cell_type": "markdown",
   "metadata": {},
   "source": [
    "這個class , 等於是 function的加工處理器，幫它多加個 __init__，\n",
    "以及__call__ ，每當這個Function被呼叫， 它就會到memo的字典查，\n",
    "\n",
    "這裡有個比較 不懂的地方 就是 *args ，這是指一個list裡面都是 傳入的參數，\n",
    "\n",
    "用* 開頭 的變數， 代表是不知大小的list， args 我想是第一個參數，\n",
    "\n",
    "又或者，我來試試 看，能不能用list 當key.\n",
    "\n",
    "網路上說是當list , 但我覺得 ，應該 是tuple 才對。\n",
    ">>> dict1 = {(1,2):1, (3,4):2, (5,6):3}\n",
    "\n",
    "class中的self ，等於是class產生的instance , 所以在沒有建立instance之前，\n",
    "\n",
    "裡面__init__ 建立的變數是看不到的。\n",
    "\n",
    "self.__x 這算是private 變數, 但如果要存取的話 ，還是存取的到。\n",
    "\n",
    "Reference:\n",
    "https://stackoverflow.com/questions/3394835/args-and-kwargs\n",
    "\n",
    "這等於是用一個class 把 function 跟 memo 這個字典給挷起來，\n",
    "\n",
    "__call__ 下面是從文字介面看到的內容：\n",
    "\n",
    ">>> dir(__builtins__.dir.__call__)\n",
    "\n",
    "Help on method-wrapper object:\n",
    "\n",
    "__call__ = class method-wrapper(object)\n",
    " |  Methods defined here:\n",
    " |\n",
    " |  __call__(self, /, *args, **kwargs)\n",
    " |      Call self as a function.\n",
    " \n",
    " https://blog.csdn.net/Yaokai_AssultMaster/article/details/70256621\n",
    " \n",
    " "
   ]
  },
  {
   "cell_type": "code",
   "execution_count": 3,
   "metadata": {
    "collapsed": true
   },
   "outputs": [],
   "source": [
    "class Memoize:\n",
    "    def __init__(self, f):\n",
    "        self.f = f\n",
    "        self.memo = {}\n",
    "    def __call__(self, *args):\n",
    "        if not args in self.memo:\n",
    "            self.memo[args] = self.f(*args)\n",
    "        return self.memo[args]"
   ]
  },
  {
   "cell_type": "markdown",
   "metadata": {},
   "source": [
    "Then all we would have to do is:"
   ]
  },
  {
   "cell_type": "code",
   "execution_count": 4,
   "metadata": {
    "collapsed": true
   },
   "outputs": [],
   "source": [
    "def factorial(k):\n",
    "    \n",
    "    if k < 2: \n",
    "        return 1\n",
    "    \n",
    "    return k * factorial(k - 1)\n",
    "\n",
    "factorial = Memoize(factorial)"
   ]
  },
  {
   "cell_type": "markdown",
   "metadata": {},
   "source": [
    "Try comparing the run times of the memoization versions of functions versus the normal recursive solutions!"
   ]
  }
 ],
 "metadata": {
  "kernelspec": {
   "display_name": "Python 3",
   "language": "python",
   "name": "python3"
  },
  "language_info": {
   "codemirror_mode": {
    "name": "ipython",
    "version": 3
   },
   "file_extension": ".py",
   "mimetype": "text/x-python",
   "name": "python",
   "nbconvert_exporter": "python",
   "pygments_lexer": "ipython3",
   "version": "3.6.3"
  }
 },
 "nbformat": 4,
 "nbformat_minor": 1
}
