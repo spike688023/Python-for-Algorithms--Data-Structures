{
 "cells": [
  {
   "cell_type": "markdown",
   "metadata": {
    "collapsed": true
   },
   "source": [
    "# Coin Change Problem\n",
    "\n",
    "##### Note: This problem has multiple solutions and is a classic problem in showing issues with basic recursion. If you are having trouble with this problem (or it seems to be taking a long time to run in some cases) check out the Solution Notebook and fully read the conclusion link for a detailed description of the various ways to solve this problem!\n",
    "\n",
    "\n",
    "This problem is common enough that is actually has its own [Wikipedia Entry](https://en.wikipedia.org/wiki/Change-making_problem)! \n",
    "\n",
    "____\n",
    "## Problem Statement\n",
    "Given a target amount **n** and a list (array) of distinct coin values, what's the fewest coins needed to make the change amount. \n",
    "\n",
    "For example:\n",
    "\n",
    "If n = 10 and coins = [1,5,10]. Then there are 4 possible ways to make change:\n",
    "\n",
    "* 1+1+1+1+1+1+1+1+1+1\n",
    "\n",
    "* 5 + 1+1+1+1+1\n",
    "\n",
    "* 5+5\n",
    "\n",
    "* 10\n",
    "\n",
    "With 1 coin being the minimum amount.\n",
    "\n",
    "    \n",
    "## Solution\n",
    "\n",
    "Implement your solution below:"
   ]
  },
  {
   "cell_type": "markdown",
   "metadata": {},
   "source": [
    "base case應該 是 n = 0 的時侯，\n",
    "\n",
    "一樣用一個out list 去紀録有那些組合，而這題 ，要是數目，那更簡單，回傳len(out)\n",
    "\n",
    "，只要剩下的n 能被 1,5,10給 切割，那弟回就 還是要往下去。\n",
    "\n",
    "弟回切割要的就 是， 中間各種 不同值的切割。\n",
    "\n",
    "我先從，列出各種組合來寫, 用最簡單的例子來想，5,[5]."
   ]
  },
  {
   "cell_type": "code",
   "execution_count": 31,
   "metadata": {
    "collapsed": false
   },
   "outputs": [],
   "source": [
    "def rec_coin2(target,coins):\n",
    "    out = []\n",
    "    if target == 0 : return []\n",
    "    \n",
    "    for i in coins:\n",
    "        \n",
    "        if target - i > 0 :\n",
    "            for j in rec_coin(target-i,coins):\n",
    "                out += [ str(i) +  str( j ) ]\n",
    "        if target - i == 0:\n",
    "            out += [str(i)]\n",
    "    \n",
    "    \n",
    "    return out\n",
    "    #return len(out)"
   ]
  },
  {
   "cell_type": "code",
   "execution_count": 32,
   "metadata": {
    "collapsed": false
   },
   "outputs": [
    {
     "data": {
      "text/plain": [
       "['1111111111',\n",
       " '111115',\n",
       " '111151',\n",
       " '111511',\n",
       " '115111',\n",
       " '151111',\n",
       " '511111',\n",
       " '55']"
      ]
     },
     "execution_count": 32,
     "metadata": {},
     "output_type": "execute_result"
    }
   ],
   "source": [
    "rec_coin(10,[1,5])"
   ]
  },
  {
   "cell_type": "markdown",
   "metadata": {},
   "source": [
    "上面是用排列組合的想法，會有重複， \n",
    "\n",
    "那我換方法想，從最大的幣值來想，如果我不考慮 1 ，\n",
    "\n",
    "只考慮其它的，我要如何避開，組合一樣，但排列不一樣的情況呢？\n",
    "\n",
    "按，我沒弄清楚 提目要的，它要的不可能的組合，\n",
    "\n",
    "它要最少的硬幣。\n",
    "\n",
    "所以base case，當然是只有一個硬幣的時侯。\n",
    "\n",
    "我上一題 有做出排列組合，如果能從裡面抽出，長度最小的，\n",
    "\n",
    "就可以。  但好像不行 \n",
    "\n",
    "目前有個想法， 弟回每下一層， 就是用了一個硬幣，\n",
    "\n",
    "我用level 去紀録，各總 組合方式，往下下了幾層，\n",
    "\n",
    "如何知道，自已目前在那一層，在跟min_result做比較，\n",
    "\n",
    "取min.\n",
    "\n",
    "因為我用reverse , 從 最大的硬 幣開始用，\n",
    "\n",
    "所以第一個 target - i == 0 ，我想就 是最小硬幣數目了。\n",
    "\n",
    "一定是思考方式錯了，按弟回這塊，以後 ，還要多練練。\n",
    "\n",
    "又有新的感受了， 用for loop 對每個幣值往下弟回做切割，\n",
    "\n",
    "往下的切割，可以看成是各種 不同的分支，不同分支到base case打回來，\n",
    "\n",
    "是那條分支的值，我們就 用這些值做比較。\n",
    "\n",
    "弟回做的事，就是分支的切割，以及設定好，base case讓它打回來。\n",
    "\n",
    "counts 放for loop 外面，回傳值是22."
   ]
  },
  {
   "cell_type": "code",
   "execution_count": 35,
   "metadata": {
    "collapsed": true
   },
   "outputs": [],
   "source": [
    "def rec_coin3(target,coins):\n",
    "    if target in coins: return 1\n",
    "    counts = 0\n",
    "    min_result = 1000\n",
    "    #print coins.sort(reverse=True)\n",
    "    #print coins\n",
    "    #coins.sort(reverse=True)\n",
    "    for i in coins:\n",
    "        # 我原本是把 counts  放在for loop 外面，但答案會錯，\n",
    "        # 放外面跟裡面有什麼差別呢？\n",
    "        # 放for loop裡面，代表每個分支，都有各自的counts\n",
    "        #counts = 0\n",
    "        \n",
    "        if target - i >= 0:\n",
    "            \n",
    "            counts += 1 + rec_coin(target - i,coins)\n",
    "        \n",
    "            min_result = min(counts,min_result)\n",
    "            #return  rec_coin(target,coins)\n",
    "        \n",
    "    #return min_result\n",
    "    return counts"
   ]
  },
  {
   "cell_type": "markdown",
   "metadata": {},
   "source": [
    "把 counts 放在for loop 外面，等於是把所 以切過的都加加了\n",
    "\n",
    "這要用樹狀來看\n",
    "\n",
    "10\n",
    "4   5   ; 這層被切成二個分支，被加2了\n",
    "4 5 4 5   ; 這層切成三個分支，加4\n",
    "\n",
    "所 以總 數是6\n",
    "\n",
    "所 以這裡的回傳值，是rec_coin3 被呼叫了幾次\n",
    "\n",
    "怎麼有點誤 差呢？\n",
    "\n",
    "案\n",
    "\n",
    "我知道了\n",
    "\n",
    "10\n",
    "4   5   ; 這層被切成二個分支，被加2了\n",
    "4 5 4 5   ; 從5 下來的這個分支 ， 它的弟回是 rec_coin3(5,[4,5]) , 所 以不會有4的\n",
    "            case ，右邊這塊counts 的總數是2 才對。"
   ]
  },
  {
   "cell_type": "code",
   "execution_count": 36,
   "metadata": {
    "collapsed": false
   },
   "outputs": [
    {
     "data": {
      "text/plain": [
       "5"
      ]
     },
     "execution_count": 36,
     "metadata": {},
     "output_type": "execute_result"
    }
   ],
   "source": [
    "rec_coin3(10,[4,5])"
   ]
  },
  {
   "cell_type": "markdown",
   "metadata": {},
   "source": [
    "因為 5是base case 所 以直接回傳"
   ]
  },
  {
   "cell_type": "code",
   "execution_count": 34,
   "metadata": {
    "collapsed": false
   },
   "outputs": [
    {
     "data": {
      "text/plain": [
       "1"
      ]
     },
     "execution_count": 34,
     "metadata": {},
     "output_type": "execute_result"
    }
   ],
   "source": [
    "rec_coin3(5,[4,5])"
   ]
  },
  {
   "cell_type": "code",
   "execution_count": 31,
   "metadata": {
    "collapsed": false
   },
   "outputs": [
    {
     "data": {
      "text/plain": [
       "2"
      ]
     },
     "execution_count": 31,
     "metadata": {},
     "output_type": "execute_result"
    }
   ],
   "source": [
    "rec_coin3(10,[5])"
   ]
  },
  {
   "cell_type": "code",
   "execution_count": 33,
   "metadata": {
    "collapsed": false
   },
   "outputs": [
    {
     "data": {
      "text/plain": [
       "5"
      ]
     },
     "execution_count": 33,
     "metadata": {},
     "output_type": "execute_result"
    }
   ],
   "source": [
    "rec_coin3(10,[2])"
   ]
  },
  {
   "cell_type": "markdown",
   "metadata": {},
   "source": [
    "好，換個新 例子，來推看看，我的觀察是不是對的，\n",
    "\n",
    "10 \n",
    "3        4     5\n",
    "3  4  5  3 4 5 3 4 5\n",
    "34 3     3\n",
    "\n",
    "這裡要再看細一點，最右邊5算下來的分支，只能算2\n",
    "3下來的最下面的34只能算1，因為 rec_coin3(4,[3,4,5]) 撞到base case只會回傳1\n",
    "\n",
    "所以，我把counts放最外面，回傳了不知道什麼東西的值，哈。"
   ]
  },
  {
   "cell_type": "code",
   "execution_count": 30,
   "metadata": {
    "collapsed": false
   },
   "outputs": [
    {
     "data": {
      "text/plain": [
       "13"
      ]
     },
     "execution_count": 30,
     "metadata": {},
     "output_type": "execute_result"
    }
   ],
   "source": [
    "rec_coin3(10,[3,4,5])"
   ]
  },
  {
   "cell_type": "markdown",
   "metadata": {},
   "source": [
    "這裡把counts 放在裡面來思考看看"
   ]
  },
  {
   "cell_type": "code",
   "execution_count": 24,
   "metadata": {
    "collapsed": true
   },
   "outputs": [],
   "source": [
    "def rec_coin4(target,coins):\n",
    "    if target in coins: return 1\n",
    "    \n",
    "    min_result = 1000\n",
    "\n",
    "    for i in coins:\n",
    "        # 把counts 放for loop裡面\n",
    "        counts = 0\n",
    "        \n",
    "        if target - i >= 0:\n",
    "            counts += 1 + rec_coin(target - i,coins)\n",
    "        \n",
    "            min_result = min(counts,min_result)\n",
    "            #return  rec_coin(target,coins)\n",
    "        \n",
    "    #return min_result\n",
    "    return min_result"
   ]
  },
  {
   "cell_type": "markdown",
   "metadata": {},
   "source": [
    "10\n",
    "3    5\n",
    "3 5  5\n",
    "3\n",
    "\n",
    "放裡是以分支的角度看，像這裡就有三條，\n",
    "3 3 3 ； 回傳3\n",
    "3 5    ； 回傳2\n",
    "5 5    ；回傳2\n",
    "所 以回傳2"
   ]
  },
  {
   "cell_type": "code",
   "execution_count": 25,
   "metadata": {
    "collapsed": false
   },
   "outputs": [
    {
     "data": {
      "text/plain": [
       "2"
      ]
     },
     "execution_count": 25,
     "metadata": {},
     "output_type": "execute_result"
    }
   ],
   "source": [
    "rec_coin4(10,[3,5])"
   ]
  },
  {
   "cell_type": "markdown",
   "metadata": {},
   "source": [
    "這題 就 對了，\n",
    "每條的值都不一樣，回傳還是對的\n",
    "10\n",
    "2     5\n",
    "2   5 5\n",
    "2 5 2\n",
    "2\n",
    "四條分支"
   ]
  },
  {
   "cell_type": "code",
   "execution_count": 26,
   "metadata": {
    "collapsed": false
   },
   "outputs": [
    {
     "data": {
      "text/plain": [
       "2"
      ]
     },
     "execution_count": 26,
     "metadata": {},
     "output_type": "execute_result"
    }
   ],
   "source": [
    "rec_coin4(10,[2,5])"
   ]
  },
  {
   "cell_type": "markdown",
   "metadata": {},
   "source": [
    "# Test Your Solution\n",
    "\n",
    "Run the cell below to test your function against some test cases. \n",
    "\n",
    "**Note that the TestCoins class only test functions with two parameter inputs, the list of coins and the target**"
   ]
  },
  {
   "cell_type": "code",
   "execution_count": null,
   "metadata": {
    "collapsed": false
   },
   "outputs": [],
   "source": [
    "\"\"\"\n",
    "RUN THIS CELL TO TEST YOUR FUNCTION.\n",
    "NOTE: NON-DYNAMIC FUNCTIONS WILL TAKE A LONG TIME TO TEST. IF YOU BELIEVE YOU HAVE A SOLUTION \n",
    "      GO CHECK THE SOLUTION NOTEBOOK INSTEAD OF RUNNING THIS!\n",
    "\"\"\"\n",
    "\n",
    "from nose.tools import assert_equal\n",
    "\n",
    "class TestCoins(object):\n",
    "    \n",
    "    def check(self,solution):\n",
    "        coins = [1,5,10,25]\n",
    "        assert_equal(solution(45,coins),3)\n",
    "        assert_equal(solution(23,coins),5)\n",
    "        assert_equal(solution(74,coins),8)\n",
    "        print 'Passed all tests.'\n",
    "# Run Test\n",
    "\n",
    "test = TestCoins()\n",
    "test.check(rec_coin)"
   ]
  },
  {
   "cell_type": "markdown",
   "metadata": {},
   "source": [
    "## EXTRA\n",
    "\n",
    "Good luck and remember to read the solution notebook for this once you've think you have a solution!"
   ]
  }
 ],
 "metadata": {
  "kernelspec": {
   "display_name": "Python 2",
   "language": "python",
   "name": "python2"
  },
  "language_info": {
   "codemirror_mode": {
    "name": "ipython",
    "version": 2
   },
   "file_extension": ".py",
   "mimetype": "text/x-python",
   "name": "python",
   "nbconvert_exporter": "python",
   "pygments_lexer": "ipython2",
   "version": "2.7.10"
  }
 },
 "nbformat": 4,
 "nbformat_minor": 0
}
