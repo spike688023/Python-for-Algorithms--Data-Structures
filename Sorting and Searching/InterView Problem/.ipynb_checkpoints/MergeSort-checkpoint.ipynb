{
 "cells": [
  {
   "cell_type": "markdown",
   "metadata": {},
   "source": [
    "MergeSort:\n",
    "\n",
    "這個sort是用divide and conquer， \n",
    "\n",
    "用call by reference ，去做切割，\n",
    "\n",
    "看是用 len() 或者是 最後 一個element的index除2 ，去抓出中間點的切割，\n",
    "\n",
    "首先，先用while loop  判斷 傳入的 list大小， >= 2 才有處理的必要，\n",
    "\n",
    "進入while loop 後， 第一步是切割，抓出切割點後，切割二塊，弟回往下，\n",
    "\n",
    "切割完的下面，就 是要做合併的處 理。\n",
    "\n",
    "沒有跑出來哎， 可能是進無窮迴圈了， 來看看作者怎麼寫吧\n",
    "\n",
    "\n",
    "MergeSort2是我比對作者的，寫出來的，修改，用來清楚 自已錯在那裡，\n",
    "\n",
    "而MergeSort 則是留下來，好像我自已知道， 會犯些什麼錯。\n",
    "\n",
    "有二點：\n",
    "\n",
    "1. 外面最大的loop ，我竟 然是用while , 難怪會無窮 \n",
    "2. 還有是最下面的二個while，我忘了加 sorted_ele ，會讓結果是錯的.\n",
    "\n",
    "但還不錯的是，整體的架構，我記得 還蠻 清楚 的。"
   ]
  },
  {
   "cell_type": "code",
   "execution_count": null,
   "metadata": {
    "collapsed": true
   },
   "outputs": [],
   "source": [
    "def MergeSort(arr):\n",
    "    length = len(arr)\n",
    "    while length >= 2:\n",
    "        \n",
    "        # 這邊是分割\n",
    "        middle = length/2\n",
    "        MergeSort(arr[0:middle])\n",
    "        MergeSort(arr[middle:])\n",
    "        \n",
    "        # 這裡是合併, 這樣，我要額外再相的空間的list\n",
    "        lpart = arr[0:middle]\n",
    "        rpart = arr[middle:]\n",
    "        lindex, rindex = 0, 0\n",
    "        sorted_ele = 0\n",
    "        \n",
    "        # 兩兩相比，排進arr 中\n",
    "        while lindex < len(lpart) and rindex < len(rpart):\n",
    "            if lpart[lindex] < rpart[rindex]:\n",
    "                arr[sorted_ele] = lpart[lindex]\n",
    "                lindex += 1\n",
    "            else:\n",
    "                arr[sorted_ele] = lpart[rindex]\n",
    "                rindex += 1\n",
    "            sorted_ele += 1\n",
    "            \n",
    "        while  lindex < len(lpart):\n",
    "            arr[sorted_ele] = lpart[lindex]\n",
    "            lindex += 1\n",
    "            \n",
    "        while  rindex < len(rpart):\n",
    "            arr[sorted_ele] = rpart[rindex]\n",
    "            rindex += 1"
   ]
  },
  {
   "cell_type": "code",
   "execution_count": null,
   "metadata": {
    "collapsed": true
   },
   "outputs": [],
   "source": [
    "list1 = [3,8,2,1,7,6,4,3]\n",
    "MergeSort(list1)\n",
    "list1"
   ]
  },
  {
   "cell_type": "markdown",
   "metadata": {},
   "source": [
    "上面好像會跑 不出來，沒關係 ，\n",
    "\n",
    "我看了作者的以後， 再來做修改。\n",
    "\n",
    "看來星號 ，是進無窮迴圈的意思\n"
   ]
  },
  {
   "cell_type": "code",
   "execution_count": 3,
   "metadata": {
    "collapsed": true
   },
   "outputs": [],
   "source": [
    "def MergeSort2(arr):\n",
    "    length = len(arr)\n",
    "    if length >= 2:\n",
    "        \n",
    "        # 這邊是分割\n",
    "        middle = length/2\n",
    "        # 想到了，一班傳參數，才有在這分call by value, reference\n",
    "        # 一班基本的assign 應該 都是value\n",
    "        lpart = arr[:middle]\n",
    "        rpart = arr[middle:]        \n",
    "\n",
    "        \n",
    "        # 這裡是合併, 這樣，我要額外再相的空間的list\n",
    "        MergeSort2(lpart)\n",
    "        MergeSort2(rpart)\n",
    "        lindex, rindex = 0, 0\n",
    "        sorted_ele = 0\n",
    "        \n",
    "        # 兩兩相比，排進arr 中\n",
    "        while lindex < len(lpart) and rindex < len(rpart):\n",
    "            if lpart[lindex] < rpart[rindex]:\n",
    "                arr[sorted_ele] = lpart[lindex]\n",
    "                lindex += 1\n",
    "            else:\n",
    "                arr[sorted_ele] = rpart[rindex]\n",
    "                rindex += 1\n",
    "            sorted_ele += 1\n",
    "            \n",
    "        while  lindex < len(lpart):\n",
    "            arr[sorted_ele] = lpart[lindex]\n",
    "            lindex += 1\n",
    "            # sorted_ele 也要＋＋ 不然會加錯位置 ，即便加錯位置 ，\n",
    "            # 也不會無窮迴圈丫\n",
    "            sorted_ele += 1\n",
    "            \n",
    "        while  rindex < len(rpart):\n",
    "            arr[sorted_ele] = rpart[rindex]\n",
    "            rindex += 1\n",
    "            sorted_ele += 1"
   ]
  },
  {
   "cell_type": "code",
   "execution_count": 4,
   "metadata": {
    "collapsed": false
   },
   "outputs": [
    {
     "name": "stdout",
     "output_type": "stream",
     "text": [
      "[1, 2, 3, 3, 4, 6, 7, 8]\n"
     ]
    }
   ],
   "source": [
    "list2 = [3,8,2,1,7,6,4,3]\n",
    "MergeSort2(list2)\n",
    "print list2"
   ]
  }
 ],
 "metadata": {
  "kernelspec": {
   "display_name": "Python 2",
   "language": "python",
   "name": "python2"
  },
  "language_info": {
   "codemirror_mode": {
    "name": "ipython",
    "version": 2
   },
   "file_extension": ".py",
   "mimetype": "text/x-python",
   "name": "python",
   "nbconvert_exporter": "python",
   "pygments_lexer": "ipython2",
   "version": "2.7.10"
  }
 },
 "nbformat": 4,
 "nbformat_minor": 0
}
