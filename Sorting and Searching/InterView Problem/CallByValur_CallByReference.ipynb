{
 "cells": [
  {
   "cell_type": "markdown",
   "metadata": {},
   "source": [
    "之前對call by value ,  call by reference的認知是，\n",
    "\n",
    "能更動的資料結構，是call by reference, \n",
    "\n",
    "不能的一定是value。\n",
    "\n",
    "但今天實作 QuickSort的時侯，發現，list不全然是call by reference,\n",
    "\n",
    "執行以下的code，就能觀察出差異，\n",
    "\n",
    "所以這裡只做總結，什麼情況會變成call by value：\n",
    "\n",
    "1. list有做 assign 的動作\n",
    "   for i in arr: 這裡就算是\n",
    "\n",
    "2. list有做過slice "
   ]
  },
  {
   "cell_type": "code",
   "execution_count": null,
   "metadata": {
    "collapsed": true
   },
   "outputs": [],
   "source": [
    "def QuickSort2(arr):\n",
    "    arr[0] = 0\n",
    "    for i in arr:\n",
    "        print i\n",
    "        i = 0"
   ]
  },
  {
   "cell_type": "code",
   "execution_count": null,
   "metadata": {
    "collapsed": true
   },
   "outputs": [],
   "source": [
    "list1 = [3,8,2,1,7,6,4,3]\n",
    "print list1\n",
    "QuickSort2(list1)\n",
    "print list1\n",
    "QuickSort2(list1[:4])\n",
    "print list1"
   ]
  }
 ],
 "metadata": {
  "kernelspec": {
   "display_name": "Python 2",
   "language": "python",
   "name": "python2"
  },
  "language_info": {
   "codemirror_mode": {
    "name": "ipython",
    "version": 2
   },
   "file_extension": ".py",
   "mimetype": "text/x-python",
   "name": "python",
   "nbconvert_exporter": "python",
   "pygments_lexer": "ipython2",
   "version": "2.7.10"
  }
 },
 "nbformat": 4,
 "nbformat_minor": 0
}
