{
 "cells": [
  {
   "cell_type": "markdown",
   "metadata": {},
   "source": [
    "Selection Sort:\n",
    "\n",
    "先把核心的想法，寫一下\n",
    "\n",
    "等一下才好實作， bubble的問題在於swap次數太多了，\n",
    "\n",
    "這個algo的方法是，用一個maxindx，去紀録，目前最大的值的index，\n",
    "\n",
    "最後才做swap，這跟 bubble sort是很像的。\n",
    "\n",
    "這裡拿之前的bubble來改。\n",
    "\n",
    "有三個地方要改：\n",
    "1.  要多一毎maxindex去存指標的位置 \n",
    "2.  第二個for loop的 end 參數，要多加1\n",
    "3.  swap的地方，要移到第一個for loop內。\n",
    "\n",
    "作者有一個地方，寫的跟我不一樣，就是第二個for loop，\n",
    "\n",
    "它是由1開始，這樣可以簡少一個loop ，\n",
    "\n",
    "因為maxindex沒必要，每都都浪費個if 跟自已比一次。"
   ]
  },
  {
   "cell_type": "code",
   "execution_count": 6,
   "metadata": {
    "collapsed": true
   },
   "outputs": [],
   "source": [
    "def selection(arr):\n",
    "    for i in range(len(arr)-1,0,-1):\n",
    "        maxindex = 0\n",
    "        for j in range(0,i+1,1):\n",
    "            if arr[maxindex] < arr[j]:\n",
    "                maxindex = j\n",
    "        temp = arr[i]\n",
    "        arr[i] = arr[maxindex]\n",
    "        arr[maxindex] = temp\n",
    "        #print arr[i]"
   ]
  },
  {
   "cell_type": "code",
   "execution_count": 7,
   "metadata": {
    "collapsed": false
   },
   "outputs": [
    {
     "name": "stdout",
     "output_type": "stream",
     "text": [
      "[1, 2, 3, 3, 4, 6, 7, 8]\n"
     ]
    }
   ],
   "source": [
    "list1 = [3,8,2,1,7,6,4,3]\n",
    "selection(list1)\n",
    "print list1"
   ]
  }
 ],
 "metadata": {
  "kernelspec": {
   "display_name": "Python 2",
   "language": "python",
   "name": "python2"
  },
  "language_info": {
   "codemirror_mode": {
    "name": "ipython",
    "version": 2
   },
   "file_extension": ".py",
   "mimetype": "text/x-python",
   "name": "python",
   "nbconvert_exporter": "python",
   "pygments_lexer": "ipython2",
   "version": "2.7.10"
  }
 },
 "nbformat": 4,
 "nbformat_minor": 0
}
