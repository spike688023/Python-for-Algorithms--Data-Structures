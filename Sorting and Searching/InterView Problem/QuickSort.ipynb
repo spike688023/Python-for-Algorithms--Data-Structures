{
 "cells": [
  {
   "cell_type": "markdown",
   "metadata": {},
   "source": [
    "QuickSort:\n",
    "\n",
    "QuickSort是用來改進MergeSort的， 主要是改進Merge多用的額外空間，\n",
    "\n",
    "但QuickSort在使用上有個缺點，就 是會受到， pivot的影響 ，\n",
    "\n",
    "如果pivot選的不好，沒有切到中間，效緑就 會不好。\n",
    "\n",
    "好了，開始來寫一下，這個演算法的想法了，\n",
    "\n",
    "pivot一開始選第一個， lindex ,rindex = 1, 最後一個，\n",
    "\n",
    "lindex只有遇到比arr[pivot]大的才停， rindex反過來，是遇到比自已小的才停，\n",
    "\n",
    "二個都找到後 ，才交換，\n",
    "\n",
    "但有一個情況，就 是二個index 錯身而過的時侯，\n",
    "\n",
    "就要把pivot指向的值，跟rindex指向的那個交換，\n",
    "\n",
    "接下來就是做切割，然後，每塊切割都做一樣的事。\n",
    "\n",
    "感覺架構跟merge sort是一樣的, \n",
    "\n",
    "但應該 是先做二分，再Recursive 下去\n",
    "\n",
    "案，又是無窮迴圈。"
   ]
  },
  {
   "cell_type": "code",
   "execution_count": null,
   "metadata": {
    "collapsed": true
   },
   "outputs": [],
   "source": [
    "def QuickSort(arr):\n",
    "    if len(arr) >= 2:\n",
    "        pivot, lindex, rindex = 0, 1, len(arr) - 1\n",
    "        \n",
    "        while lindex < rindex:\n",
    "            while lindex < len(arr) and arr[lindex] < arr[pivot]:\n",
    "                lindex += 1\n",
    "                \n",
    "            while rindex >= 1 and arr[rindex] > arr[pivot]:\n",
    "                rindex -= 1\n",
    "            \n",
    "            if lindex < rindex:\n",
    "                temp = arr[lindex]\n",
    "                arr[lindex] = arr[rindex]\n",
    "                arr[rindex] = temp\n",
    "\n",
    "        temp = arr[pivot]\n",
    "        arr[pivot] = arr[rindex]\n",
    "        arr[rindex] = temp\n",
    "        \n",
    "        QuickSort(arr[:rindex])\n",
    "        QuickSort(arr[rindex:])\n",
    "        "
   ]
  },
  {
   "cell_type": "code",
   "execution_count": null,
   "metadata": {
    "collapsed": true
   },
   "outputs": [],
   "source": [
    "list1 = [3,8,2,1,7,6,4,3]\n",
    "QuickSort(list1)\n",
    "list1"
   ]
  },
  {
   "cell_type": "markdown",
   "metadata": {},
   "source": [
    "3 2 2 2 2 2 2  這樣的case好像就會有問題 ，\n",
    "\n",
    "我還會少考慮到一些， 切割點的問題，\n",
    "\n",
    "切割點，不見得 會在中間。\n",
    "\n",
    "我這中間有用到call by value，所以只有排第一次的分割，\n",
    "\n",
    "之後都沒有。"
   ]
  },
  {
   "cell_type": "code",
   "execution_count": 1,
   "metadata": {
    "collapsed": true
   },
   "outputs": [],
   "source": [
    "def QuickSort2(arr):\n",
    "    print arr\n",
    "    if len(arr) >= 3:\n",
    "        pivot, lindex, rindex = 0, 1, len(arr) - 1\n",
    "        \n",
    "        while lindex < rindex:\n",
    "            while lindex <= rindex and arr[lindex] < arr[pivot]:\n",
    "                lindex += 1\n",
    "                #print \"lindex\"\n",
    "                \n",
    "            while rindex >= lindex and arr[rindex] > arr[pivot]:\n",
    "                rindex -= 1\n",
    "                #print \"rindex\"\n",
    "            \n",
    "            if lindex < rindex:\n",
    "                temp = arr[lindex]\n",
    "                arr[lindex] = arr[rindex]\n",
    "                arr[rindex] = temp\n",
    "            #print \"first while\"\n",
    "\n",
    "        temp = arr[pivot]\n",
    "        arr[pivot] = arr[rindex]\n",
    "        arr[rindex] = temp\n",
    "        \n",
    "        # rindex 的這個位置，不用再被拿下去sublist中，再排序了\n",
    "        QuickSort2(arr[:rindex])\n",
    "        QuickSort2(arr[rindex+1:])\n",
    "        "
   ]
  },
  {
   "cell_type": "code",
   "execution_count": 2,
   "metadata": {
    "collapsed": false
   },
   "outputs": [
    {
     "name": "stdout",
     "output_type": "stream",
     "text": [
      "[3, 8, 2, 1, 7, 6, 4, 3]\n",
      "[3, 1, 2]\n",
      "[2, 1]\n",
      "[]\n",
      "[7, 6, 4, 8]\n",
      "[4, 6]\n",
      "[8]\n"
     ]
    },
    {
     "data": {
      "text/plain": [
       "[3, 1, 2, 3, 7, 6, 4, 8]"
      ]
     },
     "execution_count": 2,
     "metadata": {},
     "output_type": "execute_result"
    }
   ],
   "source": [
    "list1 = [3,8,2,1,7,6,4,3]\n",
    "QuickSort2(list1)\n",
    "list1"
   ]
  }
 ],
 "metadata": {
  "kernelspec": {
   "display_name": "Python 2",
   "language": "python",
   "name": "python2"
  },
  "language_info": {
   "codemirror_mode": {
    "name": "ipython",
    "version": 2
   },
   "file_extension": ".py",
   "mimetype": "text/x-python",
   "name": "python",
   "nbconvert_exporter": "python",
   "pygments_lexer": "ipython2",
   "version": "2.7.10"
  }
 },
 "nbformat": 4,
 "nbformat_minor": 0
}
