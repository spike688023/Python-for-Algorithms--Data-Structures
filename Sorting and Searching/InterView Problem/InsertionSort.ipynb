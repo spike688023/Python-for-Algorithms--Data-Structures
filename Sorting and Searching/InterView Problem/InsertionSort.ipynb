{
 "cells": [
  {
   "cell_type": "markdown",
   "metadata": {},
   "source": [
    "Insertion Sort:\n",
    "\n",
    "首先，分成二塊，一塊是已排序，\n",
    "\n",
    "一塊是未排序，左邊當成已排，\n",
    "\n",
    "想法是，從未排的元素中，一個個往前面排過的做比對，\n",
    "\n",
    "比對過程中呢，遇到比自已大的，就往自已目前指向的index放，\n",
    "\n",
    ", 然後自已就 放到 index-1的位置。\n",
    "\n",
    "多加一個break, 就不用比到完了。\n",
    "\n",
    "\n",
    "\n",
    "bubble 跟selection 的概念是一次抓一個最大的，\n",
    "\n",
    "差別在於誰能減少的虛工比較多。\n",
    "\n",
    "insertion的話 ， 就 利用 已排序跟未排序的概念，\n",
    "\n",
    "拿未排序的去跟已排序的比對來看， 只要找到自已的位置，\n",
    "\n",
    "就不用每個元素都比下去了。\n",
    "\n",
    "\n",
    "\n",
    "\n",
    "作者第二個loop 是用 while， 條件不滿足就 跳 出去，\n",
    "\n",
    "我用for 加break意思是一樣的， 但比起來，就 是輸一點點。\n",
    "\n",
    "\n"
   ]
  },
  {
   "cell_type": "code",
   "execution_count": 11,
   "metadata": {
    "collapsed": true
   },
   "outputs": [],
   "source": [
    "def insertion(arr):\n",
    "    for i in range(1, len(arr)):\n",
    "        value = arr[i]\n",
    "        for j in range(i,0,-1):\n",
    "            if arr[j-1] > arr[j]:\n",
    "                arr[j] = arr[j-1]\n",
    "                arr[j-1] = value\n",
    "            else:\n",
    "                break"
   ]
  },
  {
   "cell_type": "code",
   "execution_count": 12,
   "metadata": {
    "collapsed": false
   },
   "outputs": [
    {
     "name": "stdout",
     "output_type": "stream",
     "text": [
      "[1, 2, 3, 3, 4, 6, 7, 8]\n"
     ]
    }
   ],
   "source": [
    "list1 = [3,8,2,1,7,6,4,3]\n",
    "insertion(list1)\n",
    "print list1"
   ]
  }
 ],
 "metadata": {
  "kernelspec": {
   "display_name": "Python 2",
   "language": "python",
   "name": "python2"
  },
  "language_info": {
   "codemirror_mode": {
    "name": "ipython",
    "version": 2
   },
   "file_extension": ".py",
   "mimetype": "text/x-python",
   "name": "python",
   "nbconvert_exporter": "python",
   "pygments_lexer": "ipython2",
   "version": "2.7.10"
  }
 },
 "nbformat": 4,
 "nbformat_minor": 0
}
