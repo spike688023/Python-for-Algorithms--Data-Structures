{
 "cells": [
  {
   "cell_type": "markdown",
   "metadata": {},
   "source": [
    "實作 bubble sort:\n",
    "用二個for loop , \n",
    "\n",
    "第一個是range(len) 這要反向，因為每次都是排最大的值\n",
    "第二個是range(len-1) 這要從頭每次都跟 +1 的element比\n",
    "\n",
    "yes！ perfect, 來看看，跟作者的差在那裡，\n",
    "\n",
    "以後都要變成它的板本， 哈哈，除了小地方，\n",
    "\n",
    "機乎一樣。"
   ]
  },
  {
   "cell_type": "code",
   "execution_count": 19,
   "metadata": {
    "collapsed": false
   },
   "outputs": [],
   "source": [
    "def bubble(arr):\n",
    "    for i in range(len(arr)-1,0,-1):\n",
    "        for j in range(0,i,1):\n",
    "            if arr[j] > arr[j+1]:\n",
    "                temp = arr[j]\n",
    "                arr[j] = arr[j+1]\n",
    "                arr[j+1] = temp\n",
    "        #print arr[i]"
   ]
  },
  {
   "cell_type": "code",
   "execution_count": 20,
   "metadata": {
    "collapsed": false
   },
   "outputs": [
    {
     "name": "stdout",
     "output_type": "stream",
     "text": [
      "[1, 2, 3, 3, 4, 6, 7, 8]\n"
     ]
    }
   ],
   "source": [
    "list1 = [3,8,2,1,7,6,4,3]\n",
    "bubble(list1)\n",
    "print list1"
   ]
  }
 ],
 "metadata": {
  "kernelspec": {
   "display_name": "Python 2",
   "language": "python",
   "name": "python2"
  },
  "language_info": {
   "codemirror_mode": {
    "name": "ipython",
    "version": 2
   },
   "file_extension": ".py",
   "mimetype": "text/x-python",
   "name": "python",
   "nbconvert_exporter": "python",
   "pygments_lexer": "ipython2",
   "version": "2.7.10"
  }
 },
 "nbformat": 4,
 "nbformat_minor": 0
}
