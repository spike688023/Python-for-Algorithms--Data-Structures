{
 "cells": [
  {
   "cell_type": "markdown",
   "metadata": {},
   "source": [
    "# Implementation of Insertion Sort\n",
    "\n",
    "Insertion Sort builds the final sorted array (or list) one item at a time. It is much less efficient on large lists than more advanced algorithms such as quicksort, heapsort, or merge sort. "
   ]
  },
  {
   "cell_type": "markdown",
   "metadata": {},
   "source": [
    "# Resources for Review\n",
    "\n",
    "Check out the resources below for a review of Insertion sort!\n",
    "\n",
    "* [Wikipedia](https://en.wikipedia.org/wiki/Insertion_sort)\n",
    "* [Visual Algo](http://visualgo.net/sorting.html)\n",
    "* [Animation](http://cs.armstrong.edu/liang/animation/web/InsertionSort.html)\n",
    "* [Sorting Algorithms Animcation with Pseudocode](http://www.sorting-algorithms.com/insertion-sort)"
   ]
  },
  {
   "cell_type": "markdown",
   "metadata": {},
   "source": [
    "光看動畫的想法， \n",
    "\n",
    "一開始list是 沒排過， 做法呢， 就 是一個個 慢慢排序，\n",
    "\n",
    "每次從沒排序過的item中，抽出一個，來跟已排序的list做比對，\n",
    "\n",
    "比對的同時，移動位置那些已排序的ITEM，當找到自已要的item時，\n",
    "\n",
    "就 會有空格給 自已放。\n",
    "\n",
    "我看出來了， insertion 的核心是不用swap ，所以絕對不能用swap , \n",
    "\n",
    "一次swap 會有三次的 assign ，\n",
    "\n",
    "這裡insertion 是用搬移， 把比你小的值往後移， 直到找到你自已的位置。\n",
    "\n",
    "所以insertion 的worst case 便是一個完全反向的序列。\n",
    "\n"
   ]
  },
  {
   "cell_type": "code",
   "execution_count": 2,
   "metadata": {
    "collapsed": true
   },
   "outputs": [],
   "source": [
    "def insertion_sort(arr):\n",
    "    \n",
    "    # For every index in array\n",
    "    # len() 很適合跟range配， 而且要放在 end 參數的位置 ，\n",
    "    # 等於直接幫你 減1 。\n",
    "    # 因為 index = 0 被當成已sorted的list，所以這裡的start 由1開始。\n",
    "    for i in range(1,len(arr)):\n",
    "        \n",
    "        # Set current values and position\n",
    "        # position是要被差入的位置 ， currentvalue是要拿來跟\n",
    "        # sorted sublist做比較的，比currentvalue大的話 ，就 把它往後 推，\n",
    "        # 直到遇到比自已小的， 才跳 出while， 把自已放到position內。\n",
    "        currentvalue = arr[i]\n",
    "        position = i\n",
    "        \n",
    "        # Sorted Sublist\n",
    "        # 這邊有二個條件判斷 ，主要是後 面的，\n",
    "        # 前面是防止，後面用 position -1 會out of bound.\n",
    "        # 就 用while loop 往後班 \n",
    "        while position>0 and arr[position-1]>currentvalue:\n",
    "            \n",
    "            arr[position]=arr[position-1]\n",
    "            position = position-1\n",
    "\n",
    "        arr[position]=currentvalue"
   ]
  },
  {
   "cell_type": "code",
   "execution_count": 2,
   "metadata": {
    "collapsed": true
   },
   "outputs": [],
   "source": [
    "def insertion_sort(arr):\n",
    "    \n",
    "    # For every index in array\n",
    "    for i in range(1,len(arr)):\n",
    "        \n",
    "        # Set current values and position\n",
    "        currentvalue = arr[i]\n",
    "        position = i\n",
    "        \n",
    "        # Sorted Sublist\n",
    "        while position>0 and arr[position-1]>currentvalue:\n",
    "            \n",
    "            arr[position]=arr[position-1]\n",
    "            position = position-1\n",
    "\n",
    "        arr[position]=currentvalue"
   ]
  },
  {
   "cell_type": "code",
   "execution_count": 3,
   "metadata": {},
   "outputs": [
    {
     "data": {
      "text/plain": [
       "[1, 2, 3, 4, 5, 6, 8, 12, 25, 41]"
      ]
     },
     "execution_count": 3,
     "metadata": {},
     "output_type": "execute_result"
    }
   ],
   "source": [
    "arr =[3,5,4,6,8,1,2,12,41,25]\n",
    "insertion_sort(arr)\n",
    "arr"
   ]
  },
  {
   "cell_type": "markdown",
   "metadata": {},
   "source": [
    "# Good Job!"
   ]
  }
 ],
 "metadata": {
  "kernelspec": {
   "display_name": "Python 3",
   "language": "python",
   "name": "python3"
  },
  "language_info": {
   "codemirror_mode": {
    "name": "ipython",
    "version": 3
   },
   "file_extension": ".py",
   "mimetype": "text/x-python",
   "name": "python",
   "nbconvert_exporter": "python",
   "pygments_lexer": "ipython3",
   "version": "3.6.3"
  }
 },
 "nbformat": 4,
 "nbformat_minor": 1
}
